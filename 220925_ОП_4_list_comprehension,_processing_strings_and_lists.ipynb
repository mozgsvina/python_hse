{
  "nbformat": 4,
  "nbformat_minor": 0,
  "metadata": {
    "colab": {
      "provenance": [],
      "collapsed_sections": [],
      "authorship_tag": "ABX9TyNNIiqDMIDqTFqW2xZEpykV"
    },
    "kernelspec": {
      "name": "python3",
      "display_name": "Python 3"
    },
    "language_info": {
      "name": "python"
    }
  },
  "cells": [
    {
      "cell_type": "markdown",
      "source": [
        "разбор д/з #2\n"
      ],
      "metadata": {
        "id": "o9meR3_Co2e_"
      }
    },
    {
      "cell_type": "code",
      "source": [
        "# найти сумму чисел из вложенных списков\n",
        "\n",
        "nested_list = [[1, 2, 3],\n",
        "               [4, 5, 6],\n",
        "               [7, 8, 9]]\n",
        "\n",
        "# print(nested_list[0])\n",
        "# print(type(nested_list[0]))\n",
        "# print(nested_list[0][0])\n",
        "\n",
        "total = 0\n",
        "for inner_list in nested_list:\n",
        "    for number in inner_list:\n",
        "        total += number\n",
        "\n",
        "print(total)"
      ],
      "metadata": {
        "colab": {
          "base_uri": "https://localhost:8080/"
        },
        "id": "RZukr2rawov-",
        "outputId": "18ef8c12-1508-4979-e63f-ce1a238cd886"
      },
      "execution_count": 1,
      "outputs": [
        {
          "output_type": "stream",
          "name": "stdout",
          "text": [
            "45\n"
          ]
        }
      ]
    },
    {
      "cell_type": "code",
      "source": [
        "# найти все слова, начинающиеся с \"а\"\n",
        "\n",
        "word_list = [\"apricot\", \"Apple\", \"orange\", \"Dragon fruit\", \"Asia\", \"tomato\", \"asparagus\"]\n",
        "print(\"all words:\")\n",
        "print(*word_list, sep=\", \", end=\"\\n\\n\")\n",
        "a_word_list = []\n",
        "\n",
        "for word in word_list:\n",
        "    if word[0] == \"A\" or word[0] == \"a\":\n",
        "        a_word_list.append(word)\n",
        "\n",
        "print(\"words, starting with «a»:\")\n",
        "print(*a_word_list, sep=\", \")"
      ],
      "metadata": {
        "colab": {
          "base_uri": "https://localhost:8080/"
        },
        "id": "KdCcm1E3NJou",
        "outputId": "52628ada-2789-4b0d-8fcf-4d72211eed7b"
      },
      "execution_count": 2,
      "outputs": [
        {
          "output_type": "stream",
          "name": "stdout",
          "text": [
            "all words:\n",
            "apricot, Apple, orange, Dragon fruit, Asia, tomato, asparagus\n",
            "\n",
            "words, starting with «a»:\n",
            "apricot, Apple, Asia, asparagus\n"
          ]
        }
      ]
    },
    {
      "cell_type": "code",
      "source": [
        "# методы startswith() и endswith() возвращают True или False\n",
        "\n",
        "name = \"Anya\"\n",
        "print(name.startswith(\"An\"))\n",
        "print(name.startswith(\"an\"))\n",
        "print(name.endswith(\"nya\"))"
      ],
      "metadata": {
        "colab": {
          "base_uri": "https://localhost:8080/"
        },
        "id": "5MPlz419cLFT",
        "outputId": "60a677af-1a31-4bcb-86b9-d73acab97857"
      },
      "execution_count": 3,
      "outputs": [
        {
          "output_type": "stream",
          "name": "stdout",
          "text": [
            "True\n",
            "False\n",
            "True\n"
          ]
        }
      ]
    },
    {
      "cell_type": "code",
      "source": [
        "word_list = [\"apricot\", \"Apple\", \"orange\", \"Dragon fruit\", \"Asia\", \"tomato\", \"asparagus\"]\n",
        "\n",
        "for word in word_list:\n",
        "    if word.startswith(\"a\"):\n",
        "        print(word)"
      ],
      "metadata": {
        "colab": {
          "base_uri": "https://localhost:8080/"
        },
        "id": "3towge2Lpiw0",
        "outputId": "e8237984-3e01-469e-ad10-b695bcd4c47d"
      },
      "execution_count": 4,
      "outputs": [
        {
          "output_type": "stream",
          "name": "stdout",
          "text": [
            "apricot\n",
            "asparagus\n"
          ]
        }
      ]
    },
    {
      "cell_type": "code",
      "source": [
        "# методы upper() и lower() переводят всю строку в верхний / нижний регистр\n",
        "name = \"Anya\"\n",
        "# методы и функции могут возвращать значение / могут что-то изменять в объекте \n",
        "name.lower() # возвращает изменную копию строки\n",
        "name.upper()\n",
        "name_lower = name.lower()\n",
        "print(name)\n",
        "print(name_lower)"
      ],
      "metadata": {
        "colab": {
          "base_uri": "https://localhost:8080/"
        },
        "id": "TvgCCTBbdGCP",
        "outputId": "871e89de-a083-4326-d297-fa4edbb523ad"
      },
      "execution_count": 5,
      "outputs": [
        {
          "output_type": "stream",
          "name": "stdout",
          "text": [
            "Anya\n",
            "anya\n"
          ]
        }
      ]
    },
    {
      "cell_type": "code",
      "source": [
        "# методы isupper() и islower() возвращают булево значение (если вся строка в верхнем / нижнем регистре)\n",
        "name = \"Anya5\"\n",
        "print(name[0].isupper())\n",
        "print(name[1:].islower())"
      ],
      "metadata": {
        "colab": {
          "base_uri": "https://localhost:8080/"
        },
        "id": "e9OTHclIgJab",
        "outputId": "200f163b-323b-4e32-d48b-890597e4b93b"
      },
      "execution_count": 7,
      "outputs": [
        {
          "output_type": "stream",
          "name": "stdout",
          "text": [
            "True\n",
            "True\n"
          ]
        }
      ]
    },
    {
      "cell_type": "code",
      "source": [
        "# заменим символы на обратные по размеру\n",
        "name = \"Anya\"\n",
        "name_upd = \"\"\n",
        "\n",
        "for char in name:\n",
        "    if char.isupper():\n",
        "        name_upd += char.lower()\n",
        "    else:\n",
        "        name_upd += char.upper()\n",
        "\n",
        "name_upd"
      ],
      "metadata": {
        "colab": {
          "base_uri": "https://localhost:8080/",
          "height": 36
        },
        "id": "D00oFbxZhFK8",
        "outputId": "1c7bca53-4ff5-4788-aa4c-413bc9362950"
      },
      "execution_count": 8,
      "outputs": [
        {
          "output_type": "execute_result",
          "data": {
            "text/plain": [
              "'aNYA'"
            ],
            "application/vnd.google.colaboratory.intrinsic+json": {
              "type": "string"
            }
          },
          "metadata": {},
          "execution_count": 8
        }
      ]
    },
    {
      "cell_type": "code",
      "source": [
        "# метод который делает то же самое (! возвращает копию строки, исходная строка не меняется)\n",
        "name.swapcase()"
      ],
      "metadata": {
        "colab": {
          "base_uri": "https://localhost:8080/",
          "height": 36
        },
        "id": "yF8QXpqokrjB",
        "outputId": "bdec8bbd-a13a-42b3-e176-726807acb321"
      },
      "execution_count": null,
      "outputs": [
        {
          "output_type": "execute_result",
          "data": {
            "text/plain": [
              "'aNYA'"
            ],
            "application/vnd.google.colaboratory.intrinsic+json": {
              "type": "string"
            }
          },
          "metadata": {},
          "execution_count": 41
        }
      ]
    },
    {
      "cell_type": "code",
      "source": [
        "# решение второй задачи с поиском слов на «а» с использованием новых методов\n",
        "\n",
        "word_list = [\"apricot\", \"Apple\", \"orange\", \"Dragon fruit\", \"Asia\", \"tomato\", \"asparagus\"]\n",
        "a_word_list = []\n",
        "\n",
        "for word in word_list:\n",
        "    if word.lower().startswith(\"a\"):\n",
        "        a_word_list.append(word)\n",
        "\n",
        "a_word_list"
      ],
      "metadata": {
        "colab": {
          "base_uri": "https://localhost:8080/"
        },
        "id": "iuOFuHeneYLY",
        "outputId": "7b9eda91-679e-4a36-ae8c-84606df3925d"
      },
      "execution_count": 9,
      "outputs": [
        {
          "output_type": "execute_result",
          "data": {
            "text/plain": [
              "['apricot', 'Apple', 'Asia', 'asparagus']"
            ]
          },
          "metadata": {},
          "execution_count": 9
        }
      ]
    },
    {
      "cell_type": "code",
      "source": [
        "# напоминалка про метод extend()\n",
        "\n",
        "a_list = [\"apricot\", \"Apple\"]\n",
        "b_list = [\"orange\", \"Dragon fruit\"]\n",
        "# a_list.append(b_list)\n",
        "\n",
        "a_list.extend(b_list)\n",
        "a_list"
      ],
      "metadata": {
        "colab": {
          "base_uri": "https://localhost:8080/"
        },
        "id": "6h9TAVt6bTCf",
        "outputId": "6a99a0c6-ed4e-4a61-8726-3c50246c9ab5"
      },
      "execution_count": null,
      "outputs": [
        {
          "output_type": "execute_result",
          "data": {
            "text/plain": [
              "['apricot', 'Apple', 'orange', 'Dragon fruit']"
            ]
          },
          "metadata": {},
          "execution_count": 20
        }
      ]
    },
    {
      "cell_type": "code",
      "source": [
        "# проверить сумму while\n",
        "\n",
        "int1 = int(input(\"enter the first number: \"))\n",
        "int2 = int(input(\"enter the second number: \"))\n",
        "\n",
        "correct_sum = int1 + int2\n",
        "answer = int(input(f\"what's {int1} + {int2}?\\n\"))\n",
        "\n",
        "while answer != correct_sum:\n",
        "    answer = int(input(f\"try again. {int1} + {int2} = \"))\n",
        "\n",
        "print(\"good job!\")"
      ],
      "metadata": {
        "colab": {
          "base_uri": "https://localhost:8080/"
        },
        "id": "usUFQ2nuNKQT",
        "outputId": "7dbdedc1-e6c2-4a33-b38b-7f6fc5f15384"
      },
      "execution_count": 10,
      "outputs": [
        {
          "output_type": "stream",
          "name": "stdout",
          "text": [
            "enter the first number: 2\n",
            "enter the second number: 4\n",
            "what's 2 + 4?\n",
            "2\n",
            "try again. 2 + 4 = 3\n",
            "try again. 2 + 4 = 4\n",
            "try again. 2 + 4 = 6\n",
            "good job!\n"
          ]
        }
      ]
    },
    {
      "cell_type": "code",
      "source": [
        "# числа без остатка в одну строку от 1 до 100 (включительно)\n",
        "# (один из вариантов решения)\n",
        "\n",
        "divisor = int(input(\"enter the number: \"))\n",
        "number = 0\n",
        "print(f\"numbers from 1 to 100 that can be divided by {divisor} without a remainder:\")\n",
        "\n",
        "numbers_to_print = []\n",
        "\n",
        "while number < 100:\n",
        "    number += 1\n",
        "    if number % divisor == 0:\n",
        "        numbers_to_print.append(number)\n",
        "\n",
        "print(*numbers_to_print)"
      ],
      "metadata": {
        "colab": {
          "base_uri": "https://localhost:8080/"
        },
        "id": "BgU38wapRqJ4",
        "outputId": "78752d70-cc71-4b49-d525-3036852f1e9d"
      },
      "execution_count": 11,
      "outputs": [
        {
          "output_type": "stream",
          "name": "stdout",
          "text": [
            "enter the number: 12\n",
            "numbers from 1 to 100 that can be divided by 12 without a remainder:\n",
            "12 24 36 48 60 72 84 96\n"
          ]
        }
      ]
    },
    {
      "cell_type": "code",
      "source": [
        "# числа без остатка в одну строку\n",
        "# без сохранения в список\n",
        "\n",
        "divisor = int(input(\"enter the number: \"))\n",
        "number = 0\n",
        "print(f\"numbers from 1 to 100 that can be divided by {divisor} without a remainder:\")\n",
        "\n",
        "while number < 100:\n",
        "    number += 1\n",
        "    if number % divisor == 0:\n",
        "        print(number, end=\" \")"
      ],
      "metadata": {
        "colab": {
          "base_uri": "https://localhost:8080/"
        },
        "id": "p7JbckLmrJrQ",
        "outputId": "6cd4508f-b1ae-4fa1-f9ba-2b66e26272b3"
      },
      "execution_count": 13,
      "outputs": [
        {
          "output_type": "stream",
          "name": "stdout",
          "text": [
            "enter the number: 6\n",
            "numbers from 1 to 100 that can be divided by 6 without a remainder:\n",
            "6 12 18 24 30 36 42 48 54 60 66 72 78 84 90 96 "
          ]
        }
      ]
    },
    {
      "cell_type": "code",
      "source": [
        "# фукнция range() генерирует целочисленную последовательность в заданном промежутке\n",
        "\n",
        "for num in range(1, 10):\n",
        "    print(num, end=\" \")"
      ],
      "metadata": {
        "colab": {
          "base_uri": "https://localhost:8080/"
        },
        "id": "5GAgSlKlp5XS",
        "outputId": "dcb7f641-5b41-4973-9965-5e960392f4f4"
      },
      "execution_count": 12,
      "outputs": [
        {
          "output_type": "stream",
          "name": "stdout",
          "text": [
            "1 2 3 4 5 6 7 8 9 "
          ]
        }
      ]
    },
    {
      "cell_type": "code",
      "source": [
        "# числа без остатка в одну строку через for\n",
        "\n",
        "divisor = int(input(\"enter the number: \"))\n",
        "number = 0\n",
        "print(f\"numbers from 1 to 100 that can be divided by {divisor} without a remainder:\")\n",
        "\n",
        "numbers_to_print = []\n",
        "\n",
        "for number in range(1, 101):\n",
        "    if number % divisor == 0:\n",
        "        print(number, end=\" \")"
      ],
      "metadata": {
        "colab": {
          "base_uri": "https://localhost:8080/"
        },
        "id": "EcTEEkOArvo9",
        "outputId": "9bde806f-dae4-4c5c-bc9a-1d35020d96dc"
      },
      "execution_count": 14,
      "outputs": [
        {
          "output_type": "stream",
          "name": "stdout",
          "text": [
            "enter the number: 10\n",
            "numbers from 1 to 100 that can be divided by 10 without a remainder:\n",
            "10 20 30 40 50 60 70 80 90 100 "
          ]
        }
      ]
    },
    {
      "cell_type": "code",
      "source": [
        "for i in range(5):\n",
        "    print(\"hello!\")"
      ],
      "metadata": {
        "colab": {
          "base_uri": "https://localhost:8080/"
        },
        "id": "DEa8pjPVsR3e",
        "outputId": "757e118a-6576-4a30-d92e-139ee7f242f9"
      },
      "execution_count": 15,
      "outputs": [
        {
          "output_type": "stream",
          "name": "stdout",
          "text": [
            "hello!\n",
            "hello!\n",
            "hello!\n",
            "hello!\n",
            "hello!\n"
          ]
        }
      ]
    },
    {
      "cell_type": "code",
      "source": [
        "list_from_range = list(range(10))\n",
        "list_from_range"
      ],
      "metadata": {
        "colab": {
          "base_uri": "https://localhost:8080/"
        },
        "id": "21MRSJZOsdvJ",
        "outputId": "72769b20-98dd-4fe6-f409-e2a9093784ec"
      },
      "execution_count": 16,
      "outputs": [
        {
          "output_type": "execute_result",
          "data": {
            "text/plain": [
              "[0, 1, 2, 3, 4, 5, 6, 7, 8, 9]"
            ]
          },
          "metadata": {},
          "execution_count": 16
        }
      ]
    },
    {
      "cell_type": "code",
      "source": [
        "# итерируемый объект -- list, string, range -- можно можно использовать цикл for\n",
        "for num in range(1, 10, 2):\n",
        "    print(num, end=\" \")"
      ],
      "metadata": {
        "colab": {
          "base_uri": "https://localhost:8080/"
        },
        "id": "huvUMY8Rs5At",
        "outputId": "63ae91db-b32c-421d-b5dc-3b5b5f045076"
      },
      "execution_count": 17,
      "outputs": [
        {
          "output_type": "stream",
          "name": "stdout",
          "text": [
            "1 3 5 7 9 "
          ]
        }
      ]
    },
    {
      "cell_type": "code",
      "source": [
        "# напоминалка про срез (списки, строки)\n",
        "name = \"anya\"\n",
        "name[1:-1] # срез, правая граница не включается\n",
        "name[:]"
      ],
      "metadata": {
        "colab": {
          "base_uri": "https://localhost:8080/",
          "height": 36
        },
        "id": "M1MUd6juvuJh",
        "outputId": "cc528050-affd-4c13-8d94-2b77edf3fd1a"
      },
      "execution_count": null,
      "outputs": [
        {
          "output_type": "execute_result",
          "data": {
            "text/plain": [
              "'anya'"
            ],
            "application/vnd.google.colaboratory.intrinsic+json": {
              "type": "string"
            }
          },
          "metadata": {},
          "execution_count": 73
        }
      ]
    },
    {
      "cell_type": "code",
      "source": [
        "# что если нужно удалить какие-то элементы списка?\n",
        "\n",
        "word_list = [\"apricot\", \"Apple\", \"aloe\", \"orange\", \"Dragon fruit\", \"Asia\", \"tomato\", \"asparagus\"]\n",
        "\n",
        "# можно сделать копию\n",
        "\n",
        "# word_copy = []\n",
        "# word_copy.extend(word_list)\n",
        "\n",
        "# for word in word_copy:\n",
        "#     if word.lower().startswith(\"a\"):\n",
        "#         word_list.remove(word)\n",
        "removed_words = []\n",
        "\n",
        "# можно сделать поверхностную копию также используя срез[:] или метод .copy()\n",
        "# но!! если элементами списка также являются объекты изменяемых типов, то такой копии будет недостаточно ** (см. внизу)\n",
        "\n",
        "for word in word_list[:]:\n",
        "    if word.lower().startswith(\"a\"):\n",
        "        word_list.remove(word)\n",
        "        removed_words.append(word)\n",
        "\n",
        "print(word_list)\n",
        "print(removed_words)"
      ],
      "metadata": {
        "colab": {
          "base_uri": "https://localhost:8080/"
        },
        "id": "e1hM896mtabr",
        "outputId": "acac54df-64f4-4be9-e998-c4a99617866f"
      },
      "execution_count": null,
      "outputs": [
        {
          "output_type": "stream",
          "name": "stdout",
          "text": [
            "['orange', 'Dragon fruit', 'tomato']\n",
            "['apricot', 'Apple', 'aloe', 'Asia', 'asparagus']\n"
          ]
        }
      ]
    },
    {
      "cell_type": "code",
      "source": [
        "# присваивание не создает новый объект, а копирует ссылки на тот же самый объект. поэтому если меняется он, меняется и \"копия\". см. подробней ниже \n",
        "word_list = [\"apricot\", \"Apple\", \"aloe\", \"orange\", \"Dragon fruit\", \"Asia\", \"tomato\", \"asparagus\"]\n",
        "word_copy = word_list\n",
        "\n",
        "word_copy[0] = \"pineapple\"\n",
        "word_list"
      ],
      "metadata": {
        "colab": {
          "base_uri": "https://localhost:8080/"
        },
        "id": "xrf4MHTKwZC7",
        "outputId": "5cc4fa98-f6dc-4fa8-9fca-b8a9d4b79136"
      },
      "execution_count": null,
      "outputs": [
        {
          "output_type": "execute_result",
          "data": {
            "text/plain": [
              "['pineapple',\n",
              " 'Apple',\n",
              " 'aloe',\n",
              " 'orange',\n",
              " 'Dragon fruit',\n",
              " 'Asia',\n",
              " 'tomato',\n",
              " 'asparagus']"
            ]
          },
          "metadata": {},
          "execution_count": 76
        }
      ]
    },
    {
      "cell_type": "code",
      "source": [
        "# list comprehension -- способо короткого задания списка на базе существующего\n",
        "\n",
        "movies_22 = [\"Don't Look Up\", \"West Side Story\", \"Old\", \"Spider-Man: No Way Home\", \"CODA\", \n",
        "             \"A Quiet Place Part II\", \"The Suicide Squad\", \"The Power of the Dog\"]\n",
        "\n",
        "movies_lower = []\n",
        "\n",
        "for movie in movies_22:\n",
        "    movies_lower.append(movie.lower())\n",
        "\n",
        "# тоде самое в одну строку\n",
        "movies_lower = [movie.lower() for movie in movies_22]\n",
        "print(movies_lower)"
      ],
      "metadata": {
        "colab": {
          "base_uri": "https://localhost:8080/"
        },
        "id": "BAMsxGcnw7OD",
        "outputId": "06877dab-81af-45f2-c86e-e5e791c572ba"
      },
      "execution_count": 19,
      "outputs": [
        {
          "output_type": "stream",
          "name": "stdout",
          "text": [
            "[\"don't look up\", 'west side story', 'old', 'spider-man: no way home', 'coda', 'a quiet place part ii', 'the suicide squad', 'the power of the dog']\n"
          ]
        }
      ]
    },
    {
      "cell_type": "code",
      "source": [
        "# найдем все фильмы на the двумя способами\n",
        "\n",
        "movies_22 = [\"Don't Look Up\", \"West Side Story\", \"Old\", \"Spider-Man: No Way Home\", \"CODA\", \n",
        "             \"A Quiet Place Part II\", \"The Suicide Squad\", \"The Power of the Dog\"]\n",
        "\n",
        "# старый способ:\n",
        "# the_movies = []\n",
        "# for movie in movies_22:\n",
        "#     if movie.startswith(\"The \"):\n",
        "#         the_movies.append(movie)\n",
        "\n",
        "# print(the_movies)\n",
        "\n",
        "the_movies = [movie for movie in movies_22 if movie.startswith(\"The \")]\n",
        "print(the_movies)"
      ],
      "metadata": {
        "colab": {
          "base_uri": "https://localhost:8080/"
        },
        "id": "1UmLNrBRvfoS",
        "outputId": "319b19a3-6d43-4426-97a8-a58ff76eaf5e"
      },
      "execution_count": 20,
      "outputs": [
        {
          "output_type": "stream",
          "name": "stdout",
          "text": [
            "['The Suicide Squad', 'The Power of the Dog']\n"
          ]
        }
      ]
    },
    {
      "cell_type": "code",
      "source": [
        "# list comprehension с условием\n",
        "\n",
        "movies_22 = [\"Don't Look Up\", \"West Side Story\", \"Old\", \"Spider-Man: No Way Home\", \"CODA\", \n",
        "             \"A Quiet Place Part II\", \"The Suicide Squad\", \"The Power of the Dog\"]\n",
        "\n",
        "# the_movies = []\n",
        "# for movie in movies_22:\n",
        "#     if movie.startswith(\"The \"):\n",
        "#         the_movies.append(movie.lower())\n",
        "\n",
        "# print(the_movies)\n",
        "print(movies_22)\n",
        "the_movies = [movie.lower() for movie in movies_22 if movie.startswith(\"The \")]\n",
        "print(the_movies)"
      ],
      "metadata": {
        "colab": {
          "base_uri": "https://localhost:8080/"
        },
        "id": "BwTdx1RWzOYD",
        "outputId": "18dc4063-bb4f-4d3f-f250-09ca55e75a95"
      },
      "execution_count": null,
      "outputs": [
        {
          "output_type": "stream",
          "name": "stdout",
          "text": [
            "[\"Don't Look Up\", 'West Side Story', 'Old', 'Spider-Man: No Way Home', 'CODA', 'A Quiet Place Part II', 'The Suicide Squad', 'The Power of the Dog']\n",
            "['the suicide squad', 'the power of the dog']\n"
          ]
        }
      ]
    },
    {
      "cell_type": "code",
      "source": [
        "numbers = list(range(20))\n",
        "\n",
        "# my_list = [x for x in list]\n",
        "odd_numbers_list = [numb for numb in numbers if numb != 3 and numb % 2 == 1]\n",
        "odd_numbers_list"
      ],
      "metadata": {
        "colab": {
          "base_uri": "https://localhost:8080/"
        },
        "id": "DT0rHL4p0Ujo",
        "outputId": "d2cfb26f-c3f7-4149-a513-7496312d5b4c"
      },
      "execution_count": null,
      "outputs": [
        {
          "output_type": "execute_result",
          "data": {
            "text/plain": [
              "[1, 5, 7, 9, 11, 13, 15, 17, 19]"
            ]
          },
          "metadata": {},
          "execution_count": 92
        }
      ]
    },
    {
      "cell_type": "code",
      "source": [
        "# методы join() и split()\n",
        "\n",
        "sentence = \"The Owls Are Not What They Seem\"\n",
        "words = sentence.split()\n",
        "\n",
        "stop_list = [\"the\", \"a\", \"in\", \"they\", \"are\"]\n",
        "\n",
        "# удалить из списка words те слова которые содержатся в stop_list\n",
        "\n",
        "words = [word for word in words if word.lower() not in stop_list]\n",
        "\n",
        "print(words)\n",
        "\n",
        "joined_words = \"_\".join(words)\n",
        "# print(type(joined_words))\n",
        "print(joined_words)\n"
      ],
      "metadata": {
        "colab": {
          "base_uri": "https://localhost:8080/"
        },
        "id": "37Dd_CCu17Bj",
        "outputId": "a4a49730-df92-4c4e-bc7d-0de911ac74da"
      },
      "execution_count": null,
      "outputs": [
        {
          "output_type": "stream",
          "name": "stdout",
          "text": [
            "['Owls', 'Not', 'What', 'Seem']\n",
            "Owls_Not_What_Seem\n"
          ]
        }
      ]
    },
    {
      "cell_type": "code",
      "source": [
        "# split() с заданным разделителем\n",
        "names = \"anya, katya, margo, dasha\"\n",
        "names_list = names.split(\", \")\n",
        "print(names_list)"
      ],
      "metadata": {
        "colab": {
          "base_uri": "https://localhost:8080/"
        },
        "id": "rtRz_UTL5ua_",
        "outputId": "aa93baa9-89e1-4b0b-a01b-661dd0714cb2"
      },
      "execution_count": null,
      "outputs": [
        {
          "output_type": "stream",
          "name": "stdout",
          "text": [
            "['anya', 'katya', 'margo', 'dasha']\n"
          ]
        }
      ]
    },
    {
      "cell_type": "code",
      "source": [
        "# split() с ограничением на количество срезов\n",
        "phone = \"921-788-57-22\"\n",
        "phone_w_code = phone.split(\"-\", 1)\n",
        "phone_w_code"
      ],
      "metadata": {
        "colab": {
          "base_uri": "https://localhost:8080/"
        },
        "id": "URi-RFW-7AqQ",
        "outputId": "b54f8d6e-0797-4802-ba42-07d26fc32be7"
      },
      "execution_count": null,
      "outputs": [
        {
          "output_type": "execute_result",
          "data": {
            "text/plain": [
              "['921', '788-57-22']"
            ]
          },
          "metadata": {},
          "execution_count": 113
        }
      ]
    },
    {
      "cell_type": "code",
      "source": [
        "# методы strip(), rstrip(), lstrip()\n",
        "\n",
        "word = \" the    \"\n",
        "word1 = word.strip()\n",
        "word2 = word.lstrip()\n",
        "word3 = word.rstrip(\"$\")\n",
        "print(word1)\n",
        "print(word2)\n",
        "print(word3)"
      ],
      "metadata": {
        "colab": {
          "base_uri": "https://localhost:8080/"
        },
        "id": "hfKHtgRg7q3Q",
        "outputId": "943ab66d-02aa-4f43-9530-e837df917305"
      },
      "execution_count": 21,
      "outputs": [
        {
          "output_type": "stream",
          "name": "stdout",
          "text": [
            "the\n",
            "the    \n",
            " the    \n"
          ]
        }
      ]
    },
    {
      "cell_type": "code",
      "source": [
        "\"do$om$\".rstrip(\"$\")"
      ],
      "metadata": {
        "colab": {
          "base_uri": "https://localhost:8080/",
          "height": 36
        },
        "id": "l5KY4fdwxNHo",
        "outputId": "3781f966-0524-4045-89a3-159fe4fcba30"
      },
      "execution_count": 22,
      "outputs": [
        {
          "output_type": "execute_result",
          "data": {
            "text/plain": [
              "'do$om'"
            ],
            "application/vnd.google.colaboratory.intrinsic+json": {
              "type": "string"
            }
          },
          "metadata": {},
          "execution_count": 22
        }
      ]
    },
    {
      "cell_type": "code",
      "source": [
        "# strip использует не подстроку, а набор символов для удаления\n",
        "word = \"sad...y.x\"\n",
        "word.rstrip(\"xy.\")"
      ],
      "metadata": {
        "colab": {
          "base_uri": "https://localhost:8080/",
          "height": 36
        },
        "id": "qv6D0Jc2-CPz",
        "outputId": "58a49bd3-9f79-42c5-c4de-7a10c711d38f"
      },
      "execution_count": null,
      "outputs": [
        {
          "output_type": "execute_result",
          "data": {
            "text/plain": [
              "'sad'"
            ],
            "application/vnd.google.colaboratory.intrinsic+json": {
              "type": "string"
            }
          },
          "metadata": {},
          "execution_count": 124
        }
      ]
    },
    {
      "cell_type": "code",
      "source": [
        "# напоминалка про операторв in и not in\n",
        "print(\"the\" not in [\"the\", \"a\", \"in\", \"they\", \"are\"])\n",
        "print(\"the\" in \"theodor\")"
      ],
      "metadata": {
        "colab": {
          "base_uri": "https://localhost:8080/"
        },
        "id": "nyObTPnB43Qa",
        "outputId": "ea3ba5fe-4d1a-4e09-be47-4c8fb64e5715"
      },
      "execution_count": null,
      "outputs": [
        {
          "output_type": "stream",
          "name": "stdout",
          "text": [
            "False\n",
            "True\n"
          ]
        }
      ]
    },
    {
      "cell_type": "markdown",
      "source": [
        "дополнительно\n",
        "\n"
      ],
      "metadata": {
        "id": "EeNCafu4s0dg"
      }
    },
    {
      "cell_type": "code",
      "source": [
        "list_of_mutables = [[1, 2, 3], [4, 5, 6], [7, 8, 9]]\n",
        "list_of_mutables_copied = list_of_mutables[:]  # метод copy() работает так же, с extend та же история\n",
        "\n",
        "list_of_mutables[0][0] = 0\n",
        "print(list_of_mutables)  # [[0, 2, 3], [4, 5, 6], [7, 8, 9]]\n",
        "print(list_of_mutables_copied)  # [[0, 2, 3], [4, 5, 6], [7, 8, 9]]\n",
        "\n",
        "\n",
        "list_of_immutables = [\"a\", \"b\", \"c\"]\n",
        "list_of_immutables_copied = list_of_immutables[:]\n",
        "list_of_immutables[0] = \"d\"\n",
        "print(list_of_immutables)  # ['d', 'b', 'c']\n",
        "print(list_of_immutables_copied)  # ['a', 'b', 'c']\n",
        "\n",
        "# для полноценных копий можно использовать deepcopy() из модуля copy"
      ],
      "metadata": {
        "colab": {
          "base_uri": "https://localhost:8080/"
        },
        "id": "dIewbT1Nszzb",
        "outputId": "46505670-ae59-426d-c68b-b22317042efb"
      },
      "execution_count": 23,
      "outputs": [
        {
          "output_type": "stream",
          "name": "stdout",
          "text": [
            "[[0, 2, 3], [4, 5, 6], [7, 8, 9]]\n",
            "[[0, 2, 3], [4, 5, 6], [7, 8, 9]]\n",
            "['d', 'b', 'c']\n",
            "['a', 'b', 'c']\n"
          ]
        }
      ]
    }
  ]
}