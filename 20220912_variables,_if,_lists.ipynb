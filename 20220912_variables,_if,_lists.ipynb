{
  "nbformat": 4,
  "nbformat_minor": 0,
  "metadata": {
    "colab": {
      "private_outputs": true,
      "provenance": [],
      "authorship_tag": "ABX9TyMXB+I5RVvjpzPsHPpBGdr3"
    },
    "kernelspec": {
      "name": "python3",
      "display_name": "Python 3"
    },
    "language_info": {
      "name": "python"
    }
  },
  "cells": [
    {
      "cell_type": "code",
      "execution_count": null,
      "metadata": {
        "id": "ORM2DksYOorE"
      },
      "outputs": [],
      "source": [
        "# изменять значение переменной\n",
        "\n",
        "name = \"stranger\"\n",
        "print(f\"hello, {name}\")\n",
        "name = input(\"what's your name? \")\n",
        "print(f\"hello, {name}\")\n",
        "print(name)"
      ]
    },
    {
      "cell_type": "code",
      "source": [
        "# len()\n",
        "print(len(\"cat\"))\n",
        "print(len(name))"
      ],
      "metadata": {
        "id": "TkoImlX7XI8h"
      },
      "execution_count": null,
      "outputs": []
    },
    {
      "cell_type": "code",
      "source": [
        "# поменять местами значения переменных\n",
        "\n",
        "a = int(input(\"enter number a:\")) # 5\n",
        "b = int(input(\"enter number b:\")) # 4\n",
        "\n",
        "a_val = a # 5\n",
        "\n",
        "a = b # 4\n",
        "b = a_val # 5\n",
        "\n",
        "print(\"a = \", a) \n",
        "print(\"b = \", b) "
      ],
      "metadata": {
        "id": "16YTzE7kaQRu"
      },
      "execution_count": null,
      "outputs": []
    },
    {
      "cell_type": "code",
      "source": [
        "a = 1\n",
        "b = 2\n",
        "a, b = b, a\n",
        "print(a, b)"
      ],
      "metadata": {
        "id": "JzV1MLuzdPa0"
      },
      "execution_count": null,
      "outputs": []
    },
    {
      "cell_type": "code",
      "source": [
        "print(2 - 2 ** 3)"
      ],
      "metadata": {
        "id": "9P7mESiBbAbK"
      },
      "execution_count": null,
      "outputs": []
    },
    {
      "cell_type": "code",
      "source": [
        "print(11 / 3)\n",
        "print(int(11 //  3))\n",
        "print(11 // 3) # целочисленное деление 3\n",
        "print(11 % 3) # остаток от деления 2\n",
        "\n",
        "# округление round(a, 3)\n",
        "print(round(11 / 3)) # до целого\n",
        "print(round(12 / 3, 3)) # до трех знаков после запятой"
      ],
      "metadata": {
        "id": "OeBM_swzds_H"
      },
      "execution_count": null,
      "outputs": []
    },
    {
      "cell_type": "code",
      "source": [
        "some_numb = 15\n",
        "some_numb = some_numb + 1 # увеличивает значение на 1\n",
        "some_numb += 1 # делает то же самое\n",
        "print(some_numb)\n",
        "some_numb -= 2\n",
        "print(some_numb)\n",
        "\n",
        "a = \"snow\"\n",
        "a += \"man\"\n",
        "print(a)"
      ],
      "metadata": {
        "id": "PnffGz8LfSdI"
      },
      "execution_count": null,
      "outputs": []
    },
    {
      "cell_type": "code",
      "source": [
        "# условные операторы\n",
        "\n",
        "a = 5\n",
        "b = 6\n",
        "\n",
        "print(a > b)\n",
        "print(a < b)\n",
        "print(a + 1 == b)\n",
        "print(a != b)"
      ],
      "metadata": {
        "id": "m-B3oNqHgsGT"
      },
      "execution_count": null,
      "outputs": []
    },
    {
      "cell_type": "code",
      "source": [
        "# условная конструкция\n",
        "\n",
        "age = int(input(\"what's your age? \"))\n",
        "\n",
        "if age > 18:\n",
        "    print(\"welcome!\")\n",
        "else:\n",
        "    print(f\"see you in {18 - age} years\")\n"
      ],
      "metadata": {
        "id": "mdKUyZ2yhmDf"
      },
      "execution_count": null,
      "outputs": []
    },
    {
      "cell_type": "code",
      "source": [
        "# определить, является ли число четным\n",
        "\n",
        "number = int(input(\"enter a number \"))\n",
        "\n",
        "if number % 2 == 0:\n",
        "    print(\"your number is even\")\n",
        "else:\n",
        "    print(\"your number is odd\")"
      ],
      "metadata": {
        "id": "4mlO57tGofuG"
      },
      "execution_count": null,
      "outputs": []
    },
    {
      "cell_type": "code",
      "source": [
        "age = int(input(\"what's your age? \"))\n",
        "discount = 0\n",
        "\n",
        "if age < 18:\n",
        "    print(\"your participation is free\")\n",
        "    discount = 100\n",
        "# elif может быть сколько угодно\n",
        "elif age < 30 or age > 65:\n",
        "    print(\"you have 50% discount\")\n",
        "    discount = 50\n",
        "# необязательный блок\n",
        "else:\n",
        "    print(\"you have to pay the full price\")\n",
        "\n",
        "print(\"your discount is\", discount)\n"
      ],
      "metadata": {
        "id": "6j020odjqMNy"
      },
      "execution_count": null,
      "outputs": []
    },
    {
      "cell_type": "code",
      "source": [
        "# задание\n",
        "# создайте переменную grade_str, которая будет хранить значение оценки в виде строки exellent, good, acceptable, fail\n",
        "# по данной оценке в 10-балльной шкале определите значение grade\n",
        "# если оценка от 8 до 10: exellent\n",
        "# есди оценка от 6 до 7: good\n",
        "# если оценка от 3 до 5: acceptable\n",
        "# если оценка от 0 до 2: fail\n",
        "\n",
        "grade_int = int(input(\"enter your grade from 0 to 10: \"))\n",
        "\n",
        "# write your code here\n",
        "\n",
        "if grade_int >= 8:\n",
        "    grade_str = \"exellent\"\n",
        "elif grade_int >= 6:\n",
        "    grade_str = \"good\" \n",
        "elif grade_int >= 3:\n",
        "    grade_str = \"acceptable\" \n",
        "else: \n",
        "    grade_str = \"fail\"\n",
        "\n",
        "print(grade_str) # prints exellent / good / ..."
      ],
      "metadata": {
        "id": "HpMbLaxisKnX"
      },
      "execution_count": null,
      "outputs": []
    },
    {
      "cell_type": "code",
      "source": [
        "# анализ тональности . сентимент анализ\n",
        "# вложенные if\n",
        "\n",
        "# sent_tag = pos / neg \n",
        "# sent_score = 0.7\n",
        "\n",
        "sent_tag = \"pos\"\n",
        "sent_score = 0.7\n",
        "\n",
        "if sent_tag == \"pos\":\n",
        "    if sent_score > 0.8:\n",
        "        print(\"the review is ecstatic\")\n",
        "    elif sent_score > 0.5:\n",
        "        print(\"the review is positive\")\n",
        "    else:\n",
        "        print(\"the review is neutral\")\n",
        "else:\n",
        "    print(\"the review is not positive\")\n",
        "    "
      ],
      "metadata": {
        "id": "A81ZYeqKu_Cg"
      },
      "execution_count": null,
      "outputs": []
    },
    {
      "cell_type": "code",
      "source": [
        "# логические операторы\n",
        "# and, or, not\n",
        "\n",
        "# age < 25 or age > 65\n",
        "\n",
        "a = 4\n",
        "b = 5\n",
        "\n",
        "print(a > 1 and b > 1)\n",
        "print(a > 1 and b > 6)\n",
        "print(a > 1 or b > 1)\n",
        "print(a > 1 or b > 6)\n",
        "\n",
        "c = a > 1\n",
        "print(not c)"
      ],
      "metadata": {
        "id": "k8J5yQItuft6"
      },
      "execution_count": null,
      "outputs": []
    },
    {
      "cell_type": "code",
      "source": [
        "if True:\n",
        "    print(\"i am printed anyway\")\n",
        "\n",
        "# ненулевые значения тоже истинны\n",
        "if 1:\n",
        "    print(\"i am printed anyway\")"
      ],
      "metadata": {
        "id": "_SxNmo6wyuCE"
      },
      "execution_count": null,
      "outputs": []
    },
    {
      "cell_type": "code",
      "source": [
        "# списки lists - структура данных\n",
        "\n",
        "words = [\"sky\", \"pig\", \"beach\", \"soy\", \"milk\"]\n",
        "print(words[3])\n",
        "# print(type(words))\n",
        "\n",
        "word = words[1]\n",
        "print(word)\n",
        "# print(type(word))\n",
        "\n",
        "print(words[-1])\n"
      ],
      "metadata": {
        "id": "Zu-CDmPxzHkr"
      },
      "execution_count": null,
      "outputs": []
    },
    {
      "cell_type": "code",
      "source": [
        "words = [\"sky\", \"pig\", \"beach\", \"soy\", \"milk\"]\n",
        "new_list = words[1:4] # правая граница не входит\n",
        "new_list = words[1:-2]\n",
        "new_list = words[1:]\n",
        "new_list = words[:-1]\n",
        "\n",
        "print(words[:])"
      ],
      "metadata": {
        "id": "NulfwpUh1XL8"
      },
      "execution_count": null,
      "outputs": []
    },
    {
      "cell_type": "code",
      "source": [
        "word = \"pythonn\"\n",
        "python = word[:-1]\n",
        "\n",
        "file = \"my_text.txt\"\n",
        "file_name = file[:-4]\n",
        "file_name\n",
        "\n",
        "file_path = \"c:\\\\files\\\\my_file.txt\"\n",
        "file_name = file_path[9:-4]\n",
        "print(file_name)"
      ],
      "metadata": {
        "id": "kgTk-tc42k3a"
      },
      "execution_count": null,
      "outputs": []
    },
    {
      "cell_type": "code",
      "source": [
        "words = [\"sky\", \"pig\", \"beach\", \"soy\", \"milk\"]\n",
        "pronouns = [\"i\", \"we\"]\n",
        "words.append(\"python\") # добавление в конец\n",
        "words.insert(1, \"bird\") # добавление в определенную позицию\n",
        "words.extend(pronouns) # \n",
        "print(words)"
      ],
      "metadata": {
        "id": "MqtLyJAs3-Ra"
      },
      "execution_count": null,
      "outputs": []
    },
    {
      "cell_type": "code",
      "source": [
        "words = [\"sky\", \"pig\", \"beach\", \"soy\", \"milk\"]\n",
        "words[0] = \"table\"\n",
        "print(words)"
      ],
      "metadata": {
        "id": "ZhN7yvPV5F4r"
      },
      "execution_count": null,
      "outputs": []
    },
    {
      "cell_type": "code",
      "source": [
        "word = \"pythonn\"\n",
        "print(word[0])\n",
        "# word[0] = \"y\""
      ],
      "metadata": {
        "id": "RjdsuiBV5VKV"
      },
      "execution_count": null,
      "outputs": []
    }
  ]
}