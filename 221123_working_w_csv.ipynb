{
  "nbformat": 4,
  "nbformat_minor": 0,
  "metadata": {
    "colab": {
      "private_outputs": true,
      "provenance": [],
      "authorship_tag": "ABX9TyMltEh4KCZ+8DczAKAwR5FV"
    },
    "kernelspec": {
      "name": "python3",
      "display_name": "Python 3"
    },
    "language_info": {
      "name": "python"
    }
  },
  "cells": [
    {
      "cell_type": "markdown",
      "source": [
        "используемые файлы здесь:\n",
        "https://docs.google.com/spreadsheets/d/1lNJGMycQNpjelyUSVa9Hpr31ytFQhWZm1M-TycgrPGI/edit#gid=0\n"
      ],
      "metadata": {
        "id": "9wRID-PQaLNC"
      }
    },
    {
      "cell_type": "code",
      "source": [
        "import csv\n",
        "\n",
        "with open(\"data/scores.csv\", encoding=\"utf-8\") as csv_file:\n",
        "    data = csv.reader(csv_file)\n",
        "    for row in data:  # list(data)[1:]:\n",
        "        print(row)"
      ],
      "metadata": {
        "id": "kE6XU0MrakSK"
      },
      "execution_count": null,
      "outputs": []
    },
    {
      "cell_type": "code",
      "execution_count": null,
      "metadata": {
        "id": "AcEz9caLZwcP"
      },
      "outputs": [],
      "source": [
        "import csv\n",
        "\n",
        "with open(\"data/scores.csv\", encoding=\"utf-8\") as csv_file:\n",
        "    data = csv.reader(csv_file)\n",
        "    names = []\n",
        "    messages = []\n",
        "    for row in data:  # list(data)[1:]: -- чтобы можно было обращаться по индексам и начать с 1 элемента, нужно преобразовать data в список\n",
        "        names.append(row[0])\n",
        "        messages.append(row[-1])\n",
        "\n",
        "print(names) # ['name', 'Billy', 'Charlie', 'Kate', 'Laura', 'Tom']\n",
        "print(messages)  # ['message', 'lucky you', 'way to go', 'are you a human', 'better luck next time', 'way to go']"
      ]
    },
    {
      "cell_type": "code",
      "source": [
        "names.remove(\"name\")\n",
        "messages.remove(\"message\")"
      ],
      "metadata": {
        "id": "8etkhA3bbBjw"
      },
      "execution_count": null,
      "outputs": []
    },
    {
      "cell_type": "code",
      "source": [
        "# вывести имя + message\n",
        "# for n, m in zip(names, messages):\n",
        "#     print(n + \":\", m)\n",
        "\n",
        "for i in range(len(names)):\n",
        "    print(names[i] + \": \" + messages[i])"
      ],
      "metadata": {
        "id": "OqnLxs4Ka1UR"
      },
      "execution_count": null,
      "outputs": []
    },
    {
      "cell_type": "code",
      "source": [
        "# записываем данные в файл\n",
        "# newline=\"\"можно указать, если у вас возникает лишняя пустая строка после каждой строки. скорее всего, можно убрать\n",
        "with open(\"data/new_csv.csv\", mode=\"w\", encoding=\"utf-8\", newline=\"\") as new_csv:\n",
        "    writer = csv.writer(new_csv)\n",
        "    print(\"writing to csv...\")\n",
        "    writer.writerow([\"name\", \"surname\", \"age\", \"hobbies\"])\n",
        "    writer.writerow([\"Jane\", \"Dow\", 24, \"tennis, python\"])\n",
        "    writer.writerow([\"John\", \"Dow\", 20, \"cats, reading\"])\n",
        "    # for i in range(10):\n",
        "    #     writer.writerow([\"John\", \"Dow\", 30 + i, \"na\"])"
      ],
      "metadata": {
        "id": "kw9VUwc5Z7gX"
      },
      "execution_count": null,
      "outputs": []
    },
    {
      "cell_type": "code",
      "source": [
        "# форматирование и выравнивание\n",
        "\n",
        "with open(\"data/words.txt\", encoding=\"utf-8\") as words_file:\n",
        "    words_data = csv.reader(words_file, delimiter=\" \")\n",
        "    print(f\"{'lemma':<7}{'pos':<7}{'freq':<7}\")\n",
        "    for row in words_data:\n",
        "        lemma = row[0]\n",
        "        pos = row[1]\n",
        "        freq = row[2]\n",
        "\n",
        "        print(f\"{lemma:<8}{pos:<7}{freq:>4}\")"
      ],
      "metadata": {
        "id": "-PurM2QYbRE5"
      },
      "execution_count": null,
      "outputs": []
    },
    {
      "cell_type": "code",
      "source": [
        "# считаем, сколько групп из Финлядии\n",
        "with open(\"data/metal_bands_2017.csv\") as bands:\n",
        "    data = csv.reader(bands)\n",
        "    n_finland = 0\n",
        "    for row in data:\n",
        "        if row[4] == \"Finland\":\n",
        "            n_finland += 1\n",
        "        # elif \"Finland\" in row[4]:  # это чтобы найти \"Finland, Sweden\"\n",
        "        #     print(row[4])\n",
        "print(n_finland)"
      ],
      "metadata": {
        "id": "-Mwm4t1dcxrP"
      },
      "execution_count": null,
      "outputs": []
    },
    {
      "cell_type": "code",
      "source": [
        "# сколько всего уникальных стран? (уникальных значений в столбце origin) (43)\n",
        "with open(\"data/metal_bands_2017.csv\") as bands:\n",
        "    data = csv.reader(bands)\n",
        "    unique_countries = []\n",
        "    for row in data:\n",
        "        curr_country = row[4]\n",
        "        if curr_country not in unique_countries:\n",
        "            unique_countries.append(curr_country)\n",
        "unique_countries.remove(\"origin\")\n",
        "print(len(unique_countries))"
      ],
      "metadata": {
        "id": "8iwlGntKdJlZ"
      },
      "execution_count": null,
      "outputs": []
    },
    {
      "cell_type": "code",
      "source": [
        "# другой способ:\n",
        "\n",
        "with open(\"data/metal_bands_2017.csv\") as bands:\n",
        "    data = csv.reader(bands)\n",
        "    countries = []\n",
        "    for row in data:\n",
        "        countries.append(row[4])\n",
        "    countries.remove(\"origin\")\n",
        "print(len(set(countries)))"
      ],
      "metadata": {
        "id": "CNCQrDgydtZM"
      },
      "execution_count": null,
      "outputs": []
    },
    {
      "cell_type": "code",
      "source": [
        "# а здесь мы считаем, сколько стран (уникальных значений origin) встречаются по одному разу\n",
        "\n",
        "with open(\"data/metal_bands_2017.csv\") as bands:\n",
        "    data = csv.reader(bands)\n",
        "    origin_dict = {}\n",
        "    for row in list(data)[1:]:\n",
        "        origin = row[4]\n",
        "        if origin in origin_dict:\n",
        "            origin_dict[origin] += 1\n",
        "        else:\n",
        "            origin_dict[origin] = 1\n",
        "\n",
        "    n = 0\n",
        "    for val in origin_dict.values():\n",
        "        if val == 1:\n",
        "            n += 1\n",
        "    print(\"всего стран:\", n, end=\"\\n\\n\")\n",
        "    \n",
        "    # выведем эти страны (одна просто пустая)\n",
        "    for key, val in origin_dict.items():\n",
        "        if val == 1:\n",
        "            print(key)"
      ],
      "metadata": {
        "id": "NkKk42w0d5BG"
      },
      "execution_count": null,
      "outputs": []
    },
    {
      "cell_type": "code",
      "source": [
        "# какая самая старая (давно созданная) и не распавшаяся группа?\n",
        "# получим список не распавшихся групп (т.е. не имеющих даты распада в этой таблице...)\n",
        "with open(\"data/metal_bands_2017.csv\") as bands:\n",
        "    data = csv.reader(bands)\n",
        "    exist_bands = {}\n",
        "    for row in data:\n",
        "        if row[-2] == \"-\":\n",
        "            exist_bands[row[1]] = row[3]\n",
        "\n",
        "print(exist_bands)"
      ],
      "metadata": {
        "id": "LsW8Z4G0fRE0"
      },
      "execution_count": null,
      "outputs": []
    },
    {
      "cell_type": "code",
      "source": [
        "# найдем минимальное значение даты распада\n",
        "# кстати Alice Cooper распались в 75, но до сих пор устраивают реюнионы\n",
        "for key, val in exist_bands.items():\n",
        "    if val == min(exist_bands.values()):\n",
        "        print(key)\n",
        "        break"
      ],
      "metadata": {
        "id": "Dv14fRPxfzxz"
      },
      "execution_count": null,
      "outputs": []
    },
    {
      "cell_type": "code",
      "source": [
        "# чуть более элегантное решение\n",
        "\n",
        "with open(\"data/metal_bands_2017.csv\") as bands:\n",
        "    data = csv.reader(bands)\n",
        "    min_year = 2022\n",
        "    for row in data:\n",
        "        if row[-2] == \"-\":\n",
        "            if int(row[3]) < int(min_year):\n",
        "                min_year = row[3]\n",
        "                band = row[1]\n",
        "\n",
        "print(band)"
      ],
      "metadata": {
        "id": "PFAeKLAIhcin"
      },
      "execution_count": null,
      "outputs": []
    },
    {
      "cell_type": "code",
      "source": [
        "# получить список жанро, теперь уже разобьем по внутренней запятой (но не делаем уникальными)\n",
        "\n",
        "with open(\"data/metal_bands_2017.csv\") as bands:\n",
        "    data = csv.reader(bands)\n",
        "    styles = []\n",
        "    for row in data:\n",
        "        curr_styles = row[6].split(\",\")  # список текущих жанров из одного или более элементов\n",
        "        styles.extend(curr_styles)\n",
        "        # for st in curr_styles:\n",
        "        #     styles.append(st)\n",
        "\n",
        "    print(*styles, sep=\"\\n\")"
      ],
      "metadata": {
        "id": "Vzy16QrScgm9"
      },
      "execution_count": null,
      "outputs": []
    }
  ]
}