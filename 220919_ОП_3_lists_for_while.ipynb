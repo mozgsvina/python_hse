{
  "nbformat": 4,
  "nbformat_minor": 0,
  "metadata": {
    "colab": {
      "provenance": [],
      "collapsed_sections": [],
      "authorship_tag": "ABX9TyN6CQiFBT9JW1NhbG7s8J/A"
    },
    "kernelspec": {
      "name": "python3",
      "display_name": "Python 3"
    },
    "language_info": {
      "name": "python"
    }
  },
  "cells": [
    {
      "cell_type": "code",
      "execution_count": 1,
      "metadata": {
        "id": "tBhdRRM9Tt-d",
        "colab": {
          "base_uri": "https://localhost:8080/"
        },
        "outputId": "36d22492-20ba-4b7a-b8b4-714e5920c4c3"
      },
      "outputs": [
        {
          "output_type": "stream",
          "name": "stdout",
          "text": [
            "введите мин. кол-во символов: 1\n",
            "введите макс. кол-во символов: 5\n",
            "введите ваше сообщение: hello!\n",
            "ваше сообщение слишком длинное.\n",
            "вам нужно удалить от 1 до 5 символов. Введите число: 1\n",
            "hello\n"
          ]
        }
      ],
      "source": [
        "# разбор д/з 1\n",
        "min_chars = int(input(\"введите мин. кол-во символов: \"))\n",
        "max_chars = int(input(\"введите макс. кол-во символов: \"))\n",
        "message = input(\"введите ваше сообщение: \")\n",
        "\n",
        "if len(message) > max_chars:\n",
        "    print(\"ваше сообщение слишком длинное.\")\n",
        "    num_chars = int(input(f\"вам нужно удалить от {len(message) - max_chars} до {len(message) - min_chars} символов. Введите число: \"))\n",
        "    print(message[:-num_chars])\n",
        "elif len(message) < min_chars:\n",
        "    print(\"ваше сообщение слишком короткое.\")\n",
        "else:\n",
        "    print(\"отлично, ваше сообщение отправлено!\")"
      ]
    },
    {
      "cell_type": "code",
      "source": [
        "min_chars = int(input(\"введите мин. кол-во символов: \"))\n",
        "max_chars = int(input(\"введите макс. кол-во символов: \"))\n",
        "message = input(\"введите ваше сообщение: \")\n",
        "\n",
        "if  max_chars > len(message) > min_chars:\n",
        "    print(\"отлично, ваше сообщение отправлено!\")\n",
        "else:\n",
        "    print(f\"минимальная длина сообшения — {min_chars}, максимальная — {max_chars}.\\nВаше сообщение не может быть отправлено.\")"
      ],
      "metadata": {
        "id": "vNgjpQ4VVL5w",
        "colab": {
          "base_uri": "https://localhost:8080/"
        },
        "outputId": "ab5b2c58-efda-410b-9f28-5e68c09577bf"
      },
      "execution_count": 2,
      "outputs": [
        {
          "output_type": "stream",
          "name": "stdout",
          "text": [
            "введите мин. кол-во символов: 1\n",
            "введите макс. кол-во символов: 5\n",
            "введите ваше сообщение: welcome!\n",
            "минимальная длина сообшения — 1, максимальная — 5.\n",
            "Ваше сообщение не может быть отправлено.\n"
          ]
        }
      ]
    },
    {
      "cell_type": "code",
      "source": [
        "# разбор д/з 2\n",
        "# nb! list - плохое название, тк это ключевое слово (название типа в Питоне)\n",
        " \n",
        "tags = [\"funny\", \"children\", \"science\", \"news\", \"covid\"]\n",
        "print(\"here's the current list of tags: \")\n",
        "print(*tags, sep=\", \")\n",
        "new_tag = input(\"enter one new tag: \")\n",
        "# tags.append(new_tag)\n",
        "\n",
        "pos = int(input(\"enter the position: \")) \n",
        "\n",
        "if pos == 0:\n",
        "    tags.insert(0, new_tag)\n",
        "elif 0 < pos <= len(tags):\n",
        "    tags.insert(pos - 1, new_tag)\n",
        "else:\n",
        "    tags.append(new_tag)\n",
        "\n",
        "print(\"updated tags:\", end=\" \")\n",
        "print(*tags, sep=\", \")"
      ],
      "metadata": {
        "id": "sZzyN80P38al",
        "colab": {
          "base_uri": "https://localhost:8080/"
        },
        "outputId": "8c25873b-7589-47a0-8ec8-c16240948073"
      },
      "execution_count": 3,
      "outputs": [
        {
          "output_type": "stream",
          "name": "stdout",
          "text": [
            "here's the current list of tags: \n",
            "funny, children, science, news, covid\n",
            "enter one new tag: pets\n",
            "enter the position: 1\n",
            "updated tags: pets, funny, children, science, news, covid\n"
          ]
        }
      ]
    },
    {
      "cell_type": "code",
      "source": [
        "# аргументы print()\n",
        "\n",
        "print(\"hello\", sep=\" \", end=\"\\n\")\n",
        "print(\"hello\", \"world\", \"bye\", sep=\"! \", end=\" \")\n",
        "print(\"i am in a next print()\")"
      ],
      "metadata": {
        "id": "k8HFSzmbYtNI",
        "colab": {
          "base_uri": "https://localhost:8080/"
        },
        "outputId": "bbca5828-df9f-4ae5-e4b7-dfcdde9e35d2"
      },
      "execution_count": 4,
      "outputs": [
        {
          "output_type": "stream",
          "name": "stdout",
          "text": [
            "hello\n",
            "hello! world! bye i am in a next print()\n"
          ]
        }
      ]
    },
    {
      "cell_type": "code",
      "source": [
        "# удаление элементов списка\n",
        "\n",
        "tags = [\"funny\", \"children\", \"science\", \"news\", \"covid\", \"18+\"]\n",
        "print(tags)\n",
        "print(tags[2])\n",
        "tags.remove(\"science\")\n",
        "print(tags)\n",
        "print(tags[2])"
      ],
      "metadata": {
        "id": "7Yx7LrZt4ydO",
        "colab": {
          "base_uri": "https://localhost:8080/"
        },
        "outputId": "170cae31-83ad-47e3-848b-820c5cfe6e1e"
      },
      "execution_count": 5,
      "outputs": [
        {
          "output_type": "stream",
          "name": "stdout",
          "text": [
            "['funny', 'children', 'science', 'news', 'covid', '18+']\n",
            "science\n",
            "['funny', 'children', 'news', 'covid', '18+']\n",
            "news\n"
          ]
        }
      ]
    },
    {
      "cell_type": "code",
      "source": [
        "# операторы in и not in\n",
        "tags = [\"funny\", \"children\", \"science\", \"news\", \"covid\"]\n",
        "\n",
        "print(\"science\" in tags)\n",
        "print(\"science\" not in tags)\n",
        "print(\"google\" in tags)\n",
        "print(\"google\" not in tags)\n",
        "\n",
        "word_to_remove = \"18+\"\n",
        "if word_to_remove in tags:\n",
        "    tags.remove(word_to_remove)\n",
        "    print(word_to_remove, \"was removed!\")"
      ],
      "metadata": {
        "id": "o0w9yjlagXvZ",
        "colab": {
          "base_uri": "https://localhost:8080/"
        },
        "outputId": "07670833-626b-479b-efc2-2c5d4613fd1f"
      },
      "execution_count": 6,
      "outputs": [
        {
          "output_type": "stream",
          "name": "stdout",
          "text": [
            "True\n",
            "False\n",
            "False\n",
            "True\n"
          ]
        }
      ]
    },
    {
      "cell_type": "code",
      "source": [
        "tags = [\"funny\", \"children\", \"science\", \"news\", \"covid\"]\n",
        "\n",
        "word_to_append = input(\"enter new tag: \")\n",
        "if word_to_append not in tags:\n",
        "    tags.append(word_to_append)\n",
        "    print(\"updated list:\", *tags)\n",
        "else:\n",
        "    print(word_to_append, \"is already in the list!\")\n"
      ],
      "metadata": {
        "id": "mIZ_yzjShw1W",
        "colab": {
          "base_uri": "https://localhost:8080/"
        },
        "outputId": "ab0e2e98-c1c3-4f2c-a68a-24a7f94c205e"
      },
      "execution_count": 7,
      "outputs": [
        {
          "output_type": "stream",
          "name": "stdout",
          "text": [
            "enter new tag: it\n",
            "updated list: funny children science news covid it\n"
          ]
        }
      ]
    },
    {
      "cell_type": "code",
      "source": [
        "print(\"a\" in \"apple\")\n",
        "print(\"b\" in \"apple\")"
      ],
      "metadata": {
        "id": "_e4QLU1hinZn",
        "colab": {
          "base_uri": "https://localhost:8080/"
        },
        "outputId": "58dcef5e-0bcb-4984-8413-3ddc97794557"
      },
      "execution_count": 8,
      "outputs": [
        {
          "output_type": "stream",
          "name": "stdout",
          "text": [
            "True\n",
            "False\n"
          ]
        }
      ]
    },
    {
      "cell_type": "code",
      "source": [
        "# удаление элементов списка\n",
        "tags = [\"funny\", \"children\", \"science\", \"news\", \"covid\"]\n",
        "tags.remove(tags[-1])\n",
        "print(tags)"
      ],
      "metadata": {
        "id": "u2r-Gtixi6dw",
        "colab": {
          "base_uri": "https://localhost:8080/"
        },
        "outputId": "949cef09-bbfd-47bf-da35-50dca346dc55"
      },
      "execution_count": 9,
      "outputs": [
        {
          "output_type": "stream",
          "name": "stdout",
          "text": [
            "['funny', 'children', 'science', 'news']\n"
          ]
        }
      ]
    },
    {
      "cell_type": "code",
      "source": [
        "# удаление элементов списка\n",
        "tags = [\"funny\", \"children\", \"science\", \"news\", \"covid\"]\n",
        "tags[1:2] = []\n",
        "tags"
      ],
      "metadata": {
        "id": "o_ejKxLEjc7f",
        "colab": {
          "base_uri": "https://localhost:8080/"
        },
        "outputId": "cbb1b0d2-5b25-4aad-feba-86757d7d4e31"
      },
      "execution_count": 10,
      "outputs": [
        {
          "output_type": "execute_result",
          "data": {
            "text/plain": [
              "['funny', 'science', 'news', 'covid']"
            ]
          },
          "metadata": {},
          "execution_count": 10
        }
      ]
    },
    {
      "cell_type": "code",
      "source": [
        "# удаление элементов списка\n",
        "tags = [\"funny\", \"children\", \"science\", \"news\", \"covid\"]\n",
        "del tags[1]\n",
        "tags"
      ],
      "metadata": {
        "id": "hiJJvXSbjuvK",
        "colab": {
          "base_uri": "https://localhost:8080/"
        },
        "outputId": "2cc67602-fdfe-46c3-9a2a-9eab3a986332"
      },
      "execution_count": 11,
      "outputs": [
        {
          "output_type": "execute_result",
          "data": {
            "text/plain": [
              "['funny', 'science', 'news', 'covid']"
            ]
          },
          "metadata": {},
          "execution_count": 11
        }
      ]
    },
    {
      "cell_type": "code",
      "source": [
        "# пустые списки\n",
        "empty_list = []\n",
        "empty_str = \"\"\n",
        "print(type(empty_list))\n",
        "print(type(empty_str))\n",
        "\n",
        "tags = [\"funny\", \"children\", \"science\", \"news\", \"covid\"]\n",
        "print(type(tags[1:3]))"
      ],
      "metadata": {
        "id": "tgahdX2HkHqF",
        "colab": {
          "base_uri": "https://localhost:8080/"
        },
        "outputId": "74fbb198-dab9-4a26-a735-2a05f3148d7d"
      },
      "execution_count": 12,
      "outputs": [
        {
          "output_type": "stream",
          "name": "stdout",
          "text": [
            "<class 'list'>\n",
            "<class 'str'>\n",
            "<class 'list'>\n"
          ]
        }
      ]
    },
    {
      "cell_type": "code",
      "source": [
        "word = \"word\"\n",
        "print(type([\"word\"]))\n",
        "print([word])\n",
        "\n",
        "a = 1\n",
        "b = 2\n",
        "c = 3\n",
        "\n",
        "[[a], [b], c]"
      ],
      "metadata": {
        "id": "eSEmp5ZIkonb",
        "colab": {
          "base_uri": "https://localhost:8080/"
        },
        "outputId": "a65377ad-ea90-47bf-805c-a040453c5c4e"
      },
      "execution_count": 13,
      "outputs": [
        {
          "output_type": "stream",
          "name": "stdout",
          "text": [
            "<class 'list'>\n",
            "['word']\n"
          ]
        },
        {
          "output_type": "execute_result",
          "data": {
            "text/plain": [
              "[[1], [2], 3]"
            ]
          },
          "metadata": {},
          "execution_count": 13
        }
      ]
    },
    {
      "cell_type": "code",
      "source": [
        "tags = [\"funny\", \"children\", \"science\", \"news\", \"covid\"]\n",
        "\n",
        "print(tags.index(\"news\"))"
      ],
      "metadata": {
        "id": "RPVSHhaclnvD",
        "colab": {
          "base_uri": "https://localhost:8080/"
        },
        "outputId": "ae375f6b-a48f-493e-8021-95fb6a4ff61b"
      },
      "execution_count": 14,
      "outputs": [
        {
          "output_type": "stream",
          "name": "stdout",
          "text": [
            "3\n"
          ]
        }
      ]
    },
    {
      "cell_type": "code",
      "source": [
        "# more on lists: https://docs.python.org/3/tutorial/datastructures.html\n",
        "numbers = [12, 5, 66, 18, 0]\n",
        "\n",
        "numbers.reverse()\n",
        "print(numbers)\n",
        "\n",
        "numbers.sort(reverse=True)\n",
        "print(numbers)\n",
        "\n",
        "numbers.sort()\n",
        "print(numbers)\n"
      ],
      "metadata": {
        "id": "IMV_atH8mHZz",
        "colab": {
          "base_uri": "https://localhost:8080/"
        },
        "outputId": "60e689dc-1d08-46b3-d18f-9ad01f80c63c"
      },
      "execution_count": 15,
      "outputs": [
        {
          "output_type": "stream",
          "name": "stdout",
          "text": [
            "[0, 18, 66, 5, 12]\n",
            "[66, 18, 12, 5, 0]\n",
            "[0, 5, 12, 18, 66]\n"
          ]
        }
      ]
    },
    {
      "cell_type": "code",
      "source": [
        "sorted_numbers = sorted(numbers)"
      ],
      "metadata": {
        "id": "tQCfIgwep2Yp"
      },
      "execution_count": 16,
      "outputs": []
    },
    {
      "cell_type": "code",
      "source": [
        "original = [\"funny\", \"children\", \"science\", \"news\", \"covid\"]\n",
        "# new = original[:]\n",
        "new = original.copy()\n",
        "new.append(\"new\")\n",
        "original.append(\"original\")\n",
        "print(new)\n",
        "print(original)"
      ],
      "metadata": {
        "id": "OP5fELSrqLFR",
        "colab": {
          "base_uri": "https://localhost:8080/"
        },
        "outputId": "6d933a26-4d91-45e5-bf05-3b4bcac9064e"
      },
      "execution_count": 17,
      "outputs": [
        {
          "output_type": "stream",
          "name": "stdout",
          "text": [
            "['funny', 'children', 'science', 'news', 'covid', 'new']\n",
            "['funny', 'children', 'science', 'news', 'covid', 'original']\n"
          ]
        }
      ]
    },
    {
      "cell_type": "code",
      "source": [
        "# for перебирает все значения и поочередно выполняет с ними какое-то действие\n",
        "\n",
        "tags = [\"funny\", \"children\", \"science\", \"news\", \"covid\", \"test\"]\n",
        "# для каждого тэга в списке напечатай этот тэг\n",
        "\n",
        "for tag in tags:\n",
        "    print(tag) # повторится столько раз, сколько в списке объектов и каждый раз element будет разным "
      ],
      "metadata": {
        "colab": {
          "base_uri": "https://localhost:8080/"
        },
        "id": "Ih4rZqBmB0ab",
        "outputId": "609df607-f2ff-4bce-f6ad-ab5761977f00"
      },
      "execution_count": 18,
      "outputs": [
        {
          "output_type": "stream",
          "name": "stdout",
          "text": [
            "funny\n",
            "children\n",
            "science\n",
            "news\n",
            "covid\n",
            "test\n"
          ]
        }
      ]
    },
    {
      "cell_type": "code",
      "source": [
        "tags = [\"funny\", \"children\", \"science\", \"news\", \"covid\", \"test\"]\n",
        "\n",
        "for tag in tags:\n",
        "    print(\"length of\", tag, \"is\", len(tag))\n"
      ],
      "metadata": {
        "id": "upEPtskoqhNX",
        "colab": {
          "base_uri": "https://localhost:8080/"
        },
        "outputId": "f0f97dd0-f71e-47cb-d672-870f9d88f756"
      },
      "execution_count": 19,
      "outputs": [
        {
          "output_type": "stream",
          "name": "stdout",
          "text": [
            "length of funny is 5\n",
            "length of children is 8\n",
            "length of science is 7\n",
            "length of news is 4\n",
            "length of covid is 5\n",
            "length of test is 4\n"
          ]
        }
      ]
    },
    {
      "cell_type": "code",
      "source": [
        "numbers = [1, 2, 5, 19]\n",
        "\n",
        "# найти сумму чисел через цикл\n",
        "total = 0\n",
        "\n",
        "for number in numbers:\n",
        "    total += number\n",
        "\n",
        "    print(total)\n",
        "\n",
        "print(sum(numbers) == total)\n"
      ],
      "metadata": {
        "id": "nAEA3Bx2uLnu",
        "colab": {
          "base_uri": "https://localhost:8080/"
        },
        "outputId": "a5251237-afe9-436f-fea0-15ec4d8366f6"
      },
      "execution_count": 20,
      "outputs": [
        {
          "output_type": "stream",
          "name": "stdout",
          "text": [
            "1\n",
            "3\n",
            "8\n",
            "27\n",
            "True\n"
          ]
        }
      ]
    },
    {
      "cell_type": "code",
      "source": [
        "a_list = [\"funny\", \"children\", \"science\"]\n",
        "b_list =  [\"news\", \"covid\", \"test\"]\n",
        "\n",
        "# добавить в b_list слова из a_list\n",
        "for tag in a_list:\n",
        "    b_list.append(tag)\n",
        "\n",
        "print(b_list)\n"
      ],
      "metadata": {
        "id": "9chswISOwvIO",
        "colab": {
          "base_uri": "https://localhost:8080/"
        },
        "outputId": "69a758b1-70ff-4114-89a0-e60e1dc7552c"
      },
      "execution_count": 21,
      "outputs": [
        {
          "output_type": "stream",
          "name": "stdout",
          "text": [
            "['news', 'covid', 'test', 'funny', 'children', 'science']\n"
          ]
        }
      ]
    },
    {
      "cell_type": "code",
      "source": [
        "a_list = [\"funny\", \"adult\", \"children\", \"science\"]\n",
        "b_list =  [\"news\", \"funny\", \"covid\", \"test\", \"children\"]\n",
        "\n",
        "# добавить в b_list слова из a_list, если их уже там нет\n",
        "\n",
        "for tag in a_list:\n",
        "    if tag not in b_list:\n",
        "        b_list.append(tag)\n",
        "\n",
        "print(a_list)\n",
        "print(b_list)"
      ],
      "metadata": {
        "id": "foeebpa91DRD",
        "colab": {
          "base_uri": "https://localhost:8080/"
        },
        "outputId": "394bcb2b-90b7-4693-f324-1e742207aa47"
      },
      "execution_count": 22,
      "outputs": [
        {
          "output_type": "stream",
          "name": "stdout",
          "text": [
            "['funny', 'adult', 'children', 'science']\n",
            "['news', 'funny', 'covid', 'test', 'children', 'adult', 'science']\n"
          ]
        }
      ]
    },
    {
      "cell_type": "code",
      "source": [
        "# цикл while выполняется до тех пор, пока истинно условие\n",
        "\n",
        "score = 5\n",
        "\n",
        "while score < 10:\n",
        "    score = score + 1 \n",
        "    print(score)"
      ],
      "metadata": {
        "id": "XtmRVtF51xNZ",
        "colab": {
          "base_uri": "https://localhost:8080/"
        },
        "outputId": "17164e69-9529-4557-b845-c77e9defb094"
      },
      "execution_count": 23,
      "outputs": [
        {
          "output_type": "stream",
          "name": "stdout",
          "text": [
            "6\n",
            "7\n",
            "8\n",
            "9\n",
            "10\n"
          ]
        }
      ]
    },
    {
      "cell_type": "code",
      "source": [
        "# создать список слов, так чтобы данные вводились вводились с клавиатуры ()\n",
        "\n",
        "words = []\n",
        "\n",
        "new_word = input(\"введите слово для добавления в список, или введите 0: \")\n",
        "\n",
        "while new_word != \"0\":\n",
        "    words.append(new_word)\n",
        "    new_word = input(\"\")\n",
        "\n",
        "print(words)"
      ],
      "metadata": {
        "id": "Mn42gMBw3afL",
        "colab": {
          "base_uri": "https://localhost:8080/"
        },
        "outputId": "d83cbc2a-2957-4594-ee9a-0fab194ad639"
      },
      "execution_count": 24,
      "outputs": [
        {
          "output_type": "stream",
          "name": "stdout",
          "text": [
            "введите слово для добавления в список, или введите 0: cat\n",
            "dog\n",
            "pig\n",
            "capybara\n",
            "rat\n",
            "0\n",
            "['cat', 'dog', 'pig', 'capybara', 'rat']\n"
          ]
        }
      ]
    },
    {
      "cell_type": "code",
      "source": [
        "message = input(\"enter your text: \")\n",
        "while len(message) > 10:\n",
        "    message = input(\"sorry, your text is too long. try again!\\n\")\n",
        "\n",
        "\n",
        "print(message)"
      ],
      "metadata": {
        "id": "hPsNoJs14ow7",
        "colab": {
          "base_uri": "https://localhost:8080/"
        },
        "outputId": "a9f8a801-5bbb-4382-ef70-a2042e410695"
      },
      "execution_count": 25,
      "outputs": [
        {
          "output_type": "stream",
          "name": "stdout",
          "text": [
            "enter your text: hello world!\n",
            "sorry, your text is too long. try again!\n",
            "shine bright like a diamond\n",
            "sorry, your text is too long. try again!\n",
            "orange and menthol\n",
            "sorry, your text is too long. try again!\n",
            "ушки на макушке\n",
            "sorry, your text is too long. try again!\n",
            "ну привет!\n",
            "ну привет!\n"
          ]
        }
      ]
    }
  ]
}