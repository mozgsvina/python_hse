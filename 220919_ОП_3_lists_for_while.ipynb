{
  "nbformat": 4,
  "nbformat_minor": 0,
  "metadata": {
    "colab": {
      "private_outputs": true,
      "provenance": [],
      "authorship_tag": "ABX9TyN6CQiFBT9JW1NhbG7s8J/A",
      "include_colab_link": true
    },
    "kernelspec": {
      "name": "python3",
      "display_name": "Python 3"
    },
    "language_info": {
      "name": "python"
    }
  },
  "cells": [
    {
      "cell_type": "markdown",
      "metadata": {
        "id": "view-in-github",
        "colab_type": "text"
      },
      "source": [
        "<a href=\"https://colab.research.google.com/github/mozgsvina/python_hse/blob/main/220919_%D0%9E%D0%9F_3_lists_for_while.ipynb\" target=\"_parent\"><img src=\"https://colab.research.google.com/assets/colab-badge.svg\" alt=\"Open In Colab\"/></a>"
      ]
    },
    {
      "cell_type": "code",
      "execution_count": null,
      "metadata": {
        "id": "tBhdRRM9Tt-d"
      },
      "outputs": [],
      "source": [
        "# разбор д/з 1\n",
        "min_chars = int(input(\"введите мин. кол-во символов: \"))\n",
        "max_chars = int(input(\"введите макс. кол-во символов: \"))\n",
        "message = input(\"введите ваше сообщение: \")\n",
        "\n",
        "if len(message) > max_chars:\n",
        "    print(\"ваше сообщение слишком длинное.\")\n",
        "    num_chars = int(input(f\"вам нужно удалить от {len(message) - max_chars} до {len(message) - min_chars} символов. Введите число: \"))\n",
        "    print(message[:-num_chars])\n",
        "elif len(message) < min_chars:\n",
        "    print(\"ваше сообщение слишком короткое.\")\n",
        "else:\n",
        "    print(\"отлично, ваше сообщение отправлено!\")"
      ]
    },
    {
      "cell_type": "code",
      "source": [
        "min_chars = int(input(\"введите мин. кол-во символов: \"))\n",
        "max_chars = int(input(\"введите макс. кол-во символов: \"))\n",
        "message = input(\"введите ваше сообщение: \")\n",
        "\n",
        "if  max_chars > len(message) > min_chars:\n",
        "    print(\"отлично, ваше сообщение отправлено!\")\n",
        "else:\n",
        "    print(f\"минимальная длина сообшения — {min_chars}, максимальная — {max_chars}.\\nВаше сообщение не может быть отправлено.\")"
      ],
      "metadata": {
        "id": "vNgjpQ4VVL5w"
      },
      "execution_count": null,
      "outputs": []
    },
    {
      "cell_type": "code",
      "source": [
        "# разбор д/з 2\n",
        "# nb! list - плохое название, тк это ключевое слово (название типа в Питоне)\n",
        " \n",
        "tags = [\"funny\", \"children\", \"science\", \"news\", \"covid\"]\n",
        "print(\"here's the current list of tags: \")\n",
        "print(*tags, sep=\", \")\n",
        "new_tag = input(\"enter one new tag: \")\n",
        "# tags.append(new_tag)\n",
        "\n",
        "pos = int(input(\"enter the position: \")) \n",
        "\n",
        "if pos == 0:\n",
        "    tags.insert(0, new_tag)\n",
        "elif 0 < pos <= len(tags):\n",
        "    tags.insert(pos - 1, new_tag)\n",
        "else:\n",
        "    tags.append(new_tag)\n",
        "\n",
        "print(\"updated tags:\", end=\" \")\n",
        "print(*tags, sep=\", \")"
      ],
      "metadata": {
        "id": "sZzyN80P38al"
      },
      "execution_count": null,
      "outputs": []
    },
    {
      "cell_type": "code",
      "source": [
        "# аргументы print()\n",
        "\n",
        "print(\"hello\", sep=\" \", end=\"\\n\")\n",
        "print(\"hello\", \"world\", \"bye\", sep=\"! \", end=\" \")\n",
        "print(\"i am in a next print()\")"
      ],
      "metadata": {
        "id": "k8HFSzmbYtNI"
      },
      "execution_count": null,
      "outputs": []
    },
    {
      "cell_type": "code",
      "source": [
        "# удаление элементов списка\n",
        "\n",
        "tags = [\"funny\", \"children\", \"science\", \"news\", \"covid\", \"18+\"]\n",
        "print(tags)\n",
        "print(tags[2])\n",
        "tags.remove(\"science\")\n",
        "print(tags)\n",
        "print(tags[2])"
      ],
      "metadata": {
        "id": "7Yx7LrZt4ydO"
      },
      "execution_count": null,
      "outputs": []
    },
    {
      "cell_type": "code",
      "source": [
        "# операторы in и not in\n",
        "tags = [\"funny\", \"children\", \"science\", \"news\", \"covid\"]\n",
        "\n",
        "print(\"science\" in tags)\n",
        "print(\"science\" not in tags)\n",
        "print(\"google\" in tags)\n",
        "print(\"google\" not in tags)\n",
        "\n",
        "word_to_remove = \"18+\"\n",
        "if word_to_remove in tags:\n",
        "    tags.remove(word_to_remove)\n",
        "    print(word_to_remove, \"was removed!\")"
      ],
      "metadata": {
        "id": "o0w9yjlagXvZ"
      },
      "execution_count": null,
      "outputs": []
    },
    {
      "cell_type": "code",
      "source": [
        "tags = [\"funny\", \"children\", \"science\", \"news\", \"covid\"]\n",
        "\n",
        "word_to_append = input(\"enter new tag: \")\n",
        "if word_to_append not in tags:\n",
        "    tags.append(word_to_append)\n",
        "    print(\"updated list:\", *tags)\n",
        "else:\n",
        "    print(word_to_append, \"is already in the list!\")\n"
      ],
      "metadata": {
        "id": "mIZ_yzjShw1W"
      },
      "execution_count": null,
      "outputs": []
    },
    {
      "cell_type": "code",
      "source": [
        "print(\"a\" in \"apple\")\n",
        "print(\"b\" in \"apple\")"
      ],
      "metadata": {
        "id": "_e4QLU1hinZn"
      },
      "execution_count": null,
      "outputs": []
    },
    {
      "cell_type": "code",
      "source": [
        "# удаление элементов списка\n",
        "tags = [\"funny\", \"children\", \"science\", \"news\", \"covid\"]\n",
        "tags.remove(tags[-1])\n",
        "print(tags)"
      ],
      "metadata": {
        "id": "u2r-Gtixi6dw"
      },
      "execution_count": null,
      "outputs": []
    },
    {
      "cell_type": "code",
      "source": [
        "# удаление элементов списка\n",
        "tags = [\"funny\", \"children\", \"science\", \"news\", \"covid\"]\n",
        "tags[1:2] = []\n",
        "tags"
      ],
      "metadata": {
        "id": "o_ejKxLEjc7f"
      },
      "execution_count": null,
      "outputs": []
    },
    {
      "cell_type": "code",
      "source": [
        "# удаление элементов списка\n",
        "tags = [\"funny\", \"children\", \"science\", \"news\", \"covid\"]\n",
        "del tags[1]\n",
        "tags"
      ],
      "metadata": {
        "id": "hiJJvXSbjuvK"
      },
      "execution_count": null,
      "outputs": []
    },
    {
      "cell_type": "code",
      "source": [
        "# пустые списки\n",
        "empty_list = []\n",
        "empty_str = \"\"\n",
        "print(type(empty_list))\n",
        "print(type(empty_str))\n",
        "\n",
        "tags = [\"funny\", \"children\", \"science\", \"news\", \"covid\"]\n",
        "print(type(tags[1:3]))"
      ],
      "metadata": {
        "id": "tgahdX2HkHqF"
      },
      "execution_count": null,
      "outputs": []
    },
    {
      "cell_type": "code",
      "source": [
        "word = \"word\"\n",
        "print(type([\"word\"]))\n",
        "print([word])\n",
        "\n",
        "a = 1\n",
        "b = 2\n",
        "c = 3\n",
        "\n",
        "[[a], [b], c]"
      ],
      "metadata": {
        "id": "eSEmp5ZIkonb"
      },
      "execution_count": null,
      "outputs": []
    },
    {
      "cell_type": "code",
      "source": [
        "tags = [\"funny\", \"children\", \"science\", \"news\", \"covid\"]\n",
        "\n",
        "print(tags.index(\"news\"))"
      ],
      "metadata": {
        "id": "RPVSHhaclnvD"
      },
      "execution_count": null,
      "outputs": []
    },
    {
      "cell_type": "code",
      "source": [
        "# more on lists: https://docs.python.org/3/tutorial/datastructures.html\n",
        "numbers = [12, 5, 66, 18, 0]\n",
        "\n",
        "numbers.reverse()\n",
        "print(numbers)\n",
        "\n",
        "numbers.sort(reverse=True)\n",
        "print(numbers)\n",
        "\n",
        "numbers.sort()\n",
        "print(numbers)\n"
      ],
      "metadata": {
        "id": "IMV_atH8mHZz"
      },
      "execution_count": null,
      "outputs": []
    },
    {
      "cell_type": "code",
      "source": [
        "sorted_numbers = sorted(numbers)"
      ],
      "metadata": {
        "id": "tQCfIgwep2Yp"
      },
      "execution_count": null,
      "outputs": []
    },
    {
      "cell_type": "code",
      "source": [
        "original = [\"funny\", \"children\", \"science\", \"news\", \"covid\"]\n",
        "# new = original[:]\n",
        "new = original.copy()\n",
        "new.append(\"new\")\n",
        "original.append(\"original\")\n",
        "print(new)\n",
        "print(original)"
      ],
      "metadata": {
        "id": "OP5fELSrqLFR"
      },
      "execution_count": null,
      "outputs": []
    },
    {
      "cell_type": "code",
      "source": [
        "# for перебирает все значения и поочередно выполняет с ними какое-то действие\n",
        "\n",
        "tags = [\"funny\", \"children\", \"science\", \"news\", \"covid\", \"test\"]\n",
        "# для каждого тэга в списке напечатай этот тэг\n",
        "\n",
        "for tag in tags:\n",
        "    print(tag) # повторится столько раз, сколько в списке объектов и каждый раз element будет разным "
      ],
      "metadata": {
        "id": "Ih4rZqBmB0ab"
      },
      "execution_count": null,
      "outputs": []
    },
    {
      "cell_type": "code",
      "source": [
        "tags = [\"funny\", \"children\", \"science\", \"news\", \"covid\", \"test\"]\n",
        "\n",
        "for tag in tags:\n",
        "    print(\"length of\", tag, \"is\", len(tag))\n"
      ],
      "metadata": {
        "id": "upEPtskoqhNX"
      },
      "execution_count": null,
      "outputs": []
    },
    {
      "cell_type": "code",
      "source": [
        "numbers = [1, 2, 5, 19]\n",
        "\n",
        "# найти сумму чисел через цикл\n",
        "total = 0\n",
        "\n",
        "for number in numbers:\n",
        "    total += number\n",
        "\n",
        "    print(total)\n",
        "\n",
        "print(sum(numbers) == total)\n"
      ],
      "metadata": {
        "id": "nAEA3Bx2uLnu"
      },
      "execution_count": null,
      "outputs": []
    },
    {
      "cell_type": "code",
      "source": [
        "a_list = [\"funny\", \"children\", \"science\"]\n",
        "b_list =  [\"news\", \"covid\", \"test\"]\n",
        "\n",
        "# добавить в b_list слова из a_list\n",
        "for tag in a_list:\n",
        "    b_list.append(tag)\n",
        "\n",
        "print(b_list)\n"
      ],
      "metadata": {
        "id": "9chswISOwvIO"
      },
      "execution_count": null,
      "outputs": []
    },
    {
      "cell_type": "code",
      "source": [
        "a_list = [\"funny\", \"adult\", \"children\", \"science\"]\n",
        "b_list =  [\"news\", \"funny\", \"covid\", \"test\", \"children\"]\n",
        "\n",
        "# добавить в b_list слова из a_list, если их уже там нет\n",
        "\n",
        "for tag in a_list:\n",
        "    if tag not in b_list:\n",
        "        b_list.append(tag)\n",
        "\n",
        "print(a_list)\n",
        "print(b_list)"
      ],
      "metadata": {
        "id": "foeebpa91DRD"
      },
      "execution_count": null,
      "outputs": []
    },
    {
      "cell_type": "code",
      "source": [
        "# цикл while выполняется до тех пор, пока истинно условие\n",
        "\n",
        "score = 5\n",
        "\n",
        "while score < 10:\n",
        "    score = score + 1 \n",
        "    print(score)"
      ],
      "metadata": {
        "id": "XtmRVtF51xNZ"
      },
      "execution_count": null,
      "outputs": []
    },
    {
      "cell_type": "code",
      "source": [
        "# создать список слов, так чтобы данные вводились вводились с клавиатуры ()\n",
        "\n",
        "words = []\n",
        "\n",
        "new_word = input(\"введите слово для добавления в список, или введите 0: \")\n",
        "\n",
        "while new_word != \"0\":\n",
        "    words.append(new_word)\n",
        "    new_word = input(\"\")\n",
        "\n",
        "print(words)"
      ],
      "metadata": {
        "id": "Mn42gMBw3afL"
      },
      "execution_count": null,
      "outputs": []
    },
    {
      "cell_type": "code",
      "source": [
        "message = input(\"enter your text: \")\n",
        "while len(message) > 10:\n",
        "    message = input(\"sorry, your text is too long. try again!\\n\")\n",
        "\n",
        "\n",
        "print(message)"
      ],
      "metadata": {
        "id": "hPsNoJs14ow7"
      },
      "execution_count": null,
      "outputs": []
    }
  ]
}