{
  "nbformat": 4,
  "nbformat_minor": 0,
  "metadata": {
    "colab": {
      "provenance": [],
      "authorship_tag": "ABX9TyNBcLcMD/1u7o4pmVlPiGMT"
    },
    "kernelspec": {
      "name": "python3",
      "display_name": "Python 3"
    },
    "language_info": {
      "name": "python"
    }
  },
  "cells": [
    {
      "cell_type": "markdown",
      "source": [
        "разбор д/з"
      ],
      "metadata": {
        "id": "30laXc8MbxLZ"
      }
    },
    {
      "cell_type": "code",
      "execution_count": 2,
      "metadata": {
        "id": "fXJAe4_gbsRf",
        "colab": {
          "base_uri": "https://localhost:8080/"
        },
        "outputId": "6fb82114-83b3-4256-aeda-e6b8250b8434"
      },
      "outputs": [
        {
          "output_type": "stream",
          "name": "stdout",
          "text": [
            "Beautiful is better than ugly.\n",
            "Explicit is better than implicit.\n",
            "Simple is better than complex.\n",
            "Complex is better than complicated.\n",
            "Flat is better than nested.\n",
            "Sparse is better than dense.\n",
            "Readability counts.\n"
          ]
        }
      ],
      "source": [
        "text = \"Beautiful is better than ugly.\\nExplicit is better than implicit.\" \\\n",
        "       \"\\nSimple is better than complex.\\nComplex is better than complicated.\" \\\n",
        "       \"\\nFlat is better than nested.\\nSparse is better than dense.\" \\\n",
        "       \"\\nReadability counts.\"\n",
        "\n",
        "print(text)"
      ]
    },
    {
      "cell_type": "code",
      "source": [
        "# (1) разбить на предложения, УВЕЛИЧИТЬ, соединить обратно\n",
        "\n",
        "sentences = text.split(\"\\n\")\n",
        "\n",
        "sentences_upper = [sent.upper() for sent in sentences]\n",
        "\n",
        "# sentences_upper2 = []\n",
        "# for sent in sentences:\n",
        "#     sentences_upper2.append(sent.upper())\n",
        "\n",
        "# sentences_upper2\n",
        "\n",
        "sentences_upper"
      ],
      "metadata": {
        "id": "ykYqMx1bcRya",
        "colab": {
          "base_uri": "https://localhost:8080/"
        },
        "outputId": "7e586238-437f-4976-b50f-934437bbc4d4"
      },
      "execution_count": 8,
      "outputs": [
        {
          "output_type": "execute_result",
          "data": {
            "text/plain": [
              "['BEAUTIFUL IS BETTER THAN UGLY.',\n",
              " 'EXPLICIT IS BETTER THAN IMPLICIT.',\n",
              " 'SIMPLE IS BETTER THAN COMPLEX.',\n",
              " 'COMPLEX IS BETTER THAN COMPLICATED.',\n",
              " 'FLAT IS BETTER THAN NESTED.',\n",
              " 'SPARSE IS BETTER THAN DENSE.',\n",
              " 'READABILITY COUNTS.']"
            ]
          },
          "metadata": {},
          "execution_count": 8
        }
      ]
    },
    {
      "cell_type": "code",
      "source": [
        "# решение без создания нового списка (или тренируем метод index())\n",
        "print(sentences)\n",
        "\n",
        "for sent in sentences:\n",
        "    i = sentences.index(sent)  # находим индекс для каждого значения\n",
        "    sentences[i] = sent.upper()\n",
        "\n",
        "print(sentences)"
      ],
      "metadata": {
        "id": "Q_G_EjFjdYQJ",
        "colab": {
          "base_uri": "https://localhost:8080/"
        },
        "outputId": "3d731056-2453-41a6-a832-203af638fc1a"
      },
      "execution_count": 9,
      "outputs": [
        {
          "output_type": "stream",
          "name": "stdout",
          "text": [
            "['Beautiful is better than ugly.', 'Explicit is better than implicit.', 'Simple is better than complex.', 'Complex is better than complicated.', 'Flat is better than nested.', 'Sparse is better than dense.', 'Readability counts.']\n",
            "['BEAUTIFUL IS BETTER THAN UGLY.', 'EXPLICIT IS BETTER THAN IMPLICIT.', 'SIMPLE IS BETTER THAN COMPLEX.', 'COMPLEX IS BETTER THAN COMPLICATED.', 'FLAT IS BETTER THAN NESTED.', 'SPARSE IS BETTER THAN DENSE.', 'READABILITY COUNTS.']\n"
          ]
        }
      ]
    },
    {
      "cell_type": "code",
      "source": [
        "# тоже без создания нового списка, цикл по индексам\n",
        "print(sentences)\n",
        "for i in range(len(sentences)):  # от нуля до длины списка (не включительно)\n",
        "    sentences[i] = sentences[i].upper()\n",
        "\n",
        "sentences"
      ],
      "metadata": {
        "id": "qk36z3mAd2cC",
        "colab": {
          "base_uri": "https://localhost:8080/"
        },
        "outputId": "949b7301-d513-4c85-e0de-1f036edc3769"
      },
      "execution_count": 10,
      "outputs": [
        {
          "output_type": "stream",
          "name": "stdout",
          "text": [
            "['BEAUTIFUL IS BETTER THAN UGLY.', 'EXPLICIT IS BETTER THAN IMPLICIT.', 'SIMPLE IS BETTER THAN COMPLEX.', 'COMPLEX IS BETTER THAN COMPLICATED.', 'FLAT IS BETTER THAN NESTED.', 'SPARSE IS BETTER THAN DENSE.', 'READABILITY COUNTS.']\n"
          ]
        },
        {
          "output_type": "execute_result",
          "data": {
            "text/plain": [
              "['BEAUTIFUL IS BETTER THAN UGLY.',\n",
              " 'EXPLICIT IS BETTER THAN IMPLICIT.',\n",
              " 'SIMPLE IS BETTER THAN COMPLEX.',\n",
              " 'COMPLEX IS BETTER THAN COMPLICATED.',\n",
              " 'FLAT IS BETTER THAN NESTED.',\n",
              " 'SPARSE IS BETTER THAN DENSE.',\n",
              " 'READABILITY COUNTS.']"
            ]
          },
          "metadata": {},
          "execution_count": 10
        }
      ]
    },
    {
      "cell_type": "code",
      "source": [
        "# соединяем обратно в строку\n",
        "text_updated = \"\\n\".join(sentences)\n",
        "print(text_updated)"
      ],
      "metadata": {
        "id": "mts28Io6gZKj",
        "colab": {
          "base_uri": "https://localhost:8080/"
        },
        "outputId": "b4eb350c-f9e8-4c72-9e88-aaccfc916691"
      },
      "execution_count": 11,
      "outputs": [
        {
          "output_type": "stream",
          "name": "stdout",
          "text": [
            "BEAUTIFUL IS BETTER THAN UGLY.\n",
            "EXPLICIT IS BETTER THAN IMPLICIT.\n",
            "SIMPLE IS BETTER THAN COMPLEX.\n",
            "COMPLEX IS BETTER THAN COMPLICATED.\n",
            "FLAT IS BETTER THAN NESTED.\n",
            "SPARSE IS BETTER THAN DENSE.\n",
            "READABILITY COUNTS.\n"
          ]
        }
      ]
    },
    {
      "cell_type": "code",
      "source": [
        "# делает то же самое, что \"\\n\".join()\n",
        "\n",
        "text_new = \"\"\n",
        "\n",
        "# используя список предложений, созданный выше\n",
        "for sent in sentences:\n",
        "    text_new += sent + \"\\n\"\n",
        "\n",
        "print(text_new)"
      ],
      "metadata": {
        "id": "rmQciBkshtZc",
        "colab": {
          "base_uri": "https://localhost:8080/"
        },
        "outputId": "2d8e5c99-0789-4caf-e018-b1283b1bd9ef"
      },
      "execution_count": 12,
      "outputs": [
        {
          "output_type": "stream",
          "name": "stdout",
          "text": [
            "BEAUTIFUL IS BETTER THAN UGLY.\n",
            "EXPLICIT IS BETTER THAN IMPLICIT.\n",
            "SIMPLE IS BETTER THAN COMPLEX.\n",
            "COMPLEX IS BETTER THAN COMPLICATED.\n",
            "FLAT IS BETTER THAN NESTED.\n",
            "SPARSE IS BETTER THAN DENSE.\n",
            "READABILITY COUNTS.\n",
            "\n"
          ]
        }
      ]
    },
    {
      "cell_type": "code",
      "source": [
        "print(text.upper())"
      ],
      "metadata": {
        "id": "IWXyjsR_hBdb",
        "colab": {
          "base_uri": "https://localhost:8080/"
        },
        "outputId": "e70d7e02-4a47-4b59-e5a5-53b5c3a6e328"
      },
      "execution_count": 13,
      "outputs": [
        {
          "output_type": "stream",
          "name": "stdout",
          "text": [
            "BEAUTIFUL IS BETTER THAN UGLY.\n",
            "EXPLICIT IS BETTER THAN IMPLICIT.\n",
            "SIMPLE IS BETTER THAN COMPLEX.\n",
            "COMPLEX IS BETTER THAN COMPLICATED.\n",
            "FLAT IS BETTER THAN NESTED.\n",
            "SPARSE IS BETTER THAN DENSE.\n",
            "READABILITY COUNTS.\n"
          ]
        }
      ]
    },
    {
      "cell_type": "code",
      "source": [
        "# (2) перевернуть предложения\n",
        "\n",
        "\n",
        "text = \"Beautiful is better than ugly.\\nExplicit is better than implicit.\" \\\n",
        "       \"\\nSimple is better than complex.\\nComplex is better than complicated.\" \\\n",
        "       \"\\nFlat is better than nested.\\nSparse is better than dense.\" \\\n",
        "       \"\\nReadability counts.\"\n",
        "print(text)"
      ],
      "metadata": {
        "id": "WEHCcaQwcWK8",
        "colab": {
          "base_uri": "https://localhost:8080/"
        },
        "outputId": "322171f0-bb17-4d72-b3c6-25a0de6d6a49"
      },
      "execution_count": 14,
      "outputs": [
        {
          "output_type": "stream",
          "name": "stdout",
          "text": [
            "Beautiful is better than ugly.\n",
            "Explicit is better than implicit.\n",
            "Simple is better than complex.\n",
            "Complex is better than complicated.\n",
            "Flat is better than nested.\n",
            "Sparse is better than dense.\n",
            "Readability counts.\n"
          ]
        }
      ]
    },
    {
      "cell_type": "code",
      "source": [
        "# text = text.rsplit(\"\\n\", 1)[0]\n",
        "# sentences = text.split(\"\\n\")\n",
        "# sentences"
      ],
      "metadata": {
        "id": "jrZK2A5-jV3w"
      },
      "execution_count": null,
      "outputs": []
    },
    {
      "cell_type": "code",
      "source": [
        "# разбиваем по переносу строки, убираем последнее предложение\n",
        "sentences = text.split(\"\\n\")[:-1]\n",
        "sentences"
      ],
      "metadata": {
        "id": "c0lJ3UH-iUJ9",
        "colab": {
          "base_uri": "https://localhost:8080/"
        },
        "outputId": "f4c662f1-7e10-4fae-9710-45d86542b94f"
      },
      "execution_count": 15,
      "outputs": [
        {
          "output_type": "execute_result",
          "data": {
            "text/plain": [
              "['Beautiful is better than ugly.',\n",
              " 'Explicit is better than implicit.',\n",
              " 'Simple is better than complex.',\n",
              " 'Complex is better than complicated.',\n",
              " 'Flat is better than nested.',\n",
              " 'Sparse is better than dense.']"
            ]
          },
          "metadata": {},
          "execution_count": 15
        }
      ]
    },
    {
      "cell_type": "code",
      "source": [
        "# попробуем сначала на одном предложении\n",
        "# возьмем одно предложение sent\n",
        "sent = sentences[0]\n",
        "sent"
      ],
      "metadata": {
        "id": "lNbe0TAekLoT",
        "colab": {
          "base_uri": "https://localhost:8080/",
          "height": 36
        },
        "outputId": "f3e4997a-0e37-45e9-b5a8-fcb2a6d28a39"
      },
      "execution_count": 16,
      "outputs": [
        {
          "output_type": "execute_result",
          "data": {
            "text/plain": [
              "'Beautiful is better than ugly.'"
            ],
            "application/vnd.google.colaboratory.intrinsic+json": {
              "type": "string"
            }
          },
          "metadata": {},
          "execution_count": 16
        }
      ]
    },
    {
      "cell_type": "code",
      "source": [
        "# получим первое и последнее слово, сразу обрежем точку и подправим размер букв\n",
        "words = sent.split()  # ['Beautiful', 'is', 'better', 'than', 'ugly.']\n",
        "first_word = words[0].lower() + \".\"  # \n",
        "last_word = words[-1].strip(\".\").capitalize()  # ugly\n",
        "print(first_word, last_word)\n",
        "\n",
        "new_sent = last_word + \" is worse than \" + first_word\n",
        "new_sent"
      ],
      "metadata": {
        "id": "VT9XOsslkXMP",
        "colab": {
          "base_uri": "https://localhost:8080/",
          "height": 54
        },
        "outputId": "1186f1ea-f980-44be-d594-afd836e2d5a1"
      },
      "execution_count": 18,
      "outputs": [
        {
          "output_type": "stream",
          "name": "stdout",
          "text": [
            "beautiful. Ugly\n"
          ]
        },
        {
          "output_type": "execute_result",
          "data": {
            "text/plain": [
              "'Ugly is worse than beautiful.'"
            ],
            "application/vnd.google.colaboratory.intrinsic+json": {
              "type": "string"
            }
          },
          "metadata": {},
          "execution_count": 18
        }
      ]
    },
    {
      "cell_type": "code",
      "source": [
        "# а теперь перенесем эту логику в цикл по всем предложениям\n",
        "updated_sents = []\n",
        "\n",
        "for sent in sentences:\n",
        "    words = sent.split()  # ['Beautiful', 'is', 'better', 'than', 'ugly.']\n",
        "    first_word = words[0].lower() + \".\"   \n",
        "    last_word = words[-1].strip(\".\").capitalize()  # ugly\n",
        "    new_sent = last_word + \" is worse than \" + first_word\n",
        "    updated_sents.append(new_sent)\n",
        "\n",
        "for sent in updated_sents:\n",
        "    print(sent)"
      ],
      "metadata": {
        "id": "-HT99FrvmGSE",
        "colab": {
          "base_uri": "https://localhost:8080/"
        },
        "outputId": "416e94d1-2630-49bc-f9ea-6176b70ce6f7"
      },
      "execution_count": 19,
      "outputs": [
        {
          "output_type": "stream",
          "name": "stdout",
          "text": [
            "Ugly is worse than beautiful.\n",
            "Implicit is worse than explicit.\n",
            "Complex is worse than simple.\n",
            "Complicated is worse than complex.\n",
            "Nested is worse than flat.\n",
            "Dense is worse than sparse.\n"
          ]
        }
      ]
    },
    {
      "cell_type": "code",
      "source": [
        "# всякие методы для строк\n",
        "word = \"word word\"\n",
        "print(word.upper())\n",
        "print(word.capitalize())\n",
        "print(word.title())\n",
        "print(word)\n",
        "print(word[-1])\n",
        "\n",
        "word.split(\" \")\n",
        "type(word.split(\" \"))"
      ],
      "metadata": {
        "id": "MQTCga8YoSG8",
        "colab": {
          "base_uri": "https://localhost:8080/"
        },
        "outputId": "65c2ac6e-fd0a-431f-ed7c-855991943002"
      },
      "execution_count": 20,
      "outputs": [
        {
          "output_type": "stream",
          "name": "stdout",
          "text": [
            "WORD WORD\n",
            "Word word\n",
            "Word Word\n",
            "word word\n",
            "d\n"
          ]
        },
        {
          "output_type": "execute_result",
          "data": {
            "text/plain": [
              "list"
            ]
          },
          "metadata": {},
          "execution_count": 20
        }
      ]
    },
    {
      "cell_type": "code",
      "source": [
        "# метод replace\n",
        "sent = \"Ugly is worse than beautiful.\"\n",
        "sent = sent.replace(\"worse\", \"better\")\n",
        "sent"
      ],
      "metadata": {
        "id": "X60j71A2nias",
        "colab": {
          "base_uri": "https://localhost:8080/",
          "height": 36
        },
        "outputId": "2812759e-58f9-4d9d-d235-eff2a9ca2b57"
      },
      "execution_count": 21,
      "outputs": [
        {
          "output_type": "execute_result",
          "data": {
            "text/plain": [
              "'Ugly is better than beautiful.'"
            ],
            "application/vnd.google.colaboratory.intrinsic+json": {
              "type": "string"
            }
          },
          "metadata": {},
          "execution_count": 21
        }
      ]
    },
    {
      "cell_type": "code",
      "source": [
        "# (3) найти ключевые слова\n",
        "\n",
        "text = \"Beautiful is better than ugly!\\nExplicit is better than implicit.\" \\\n",
        "       \"\\nSimple is better than complex?\\nComplex is better than complicated.\" \\\n",
        "       \"\\nFlat is better than nested…\\nSparse is better than dense.\" \\\n",
        "       \"\\nReadability — counts.\"\n",
        "\n",
        "words = text.split()\n",
        "\n",
        "# words_cleaned = []\n",
        "\n",
        "# for word in words:\n",
        "#     if word not in words_cleaned and len(word.strip(\".!?…\")) > 4:\n",
        "#         word = word.lower().strip(\".!?…\")\n",
        "#         words_cleaned.append(word)\n",
        "\n",
        "words_cleaned = [w.lower().rstrip(\".!?…\") for w in words]\n",
        "\n",
        "words_unique = []\n",
        "for w in words_cleaned:\n",
        "    if w not in words_unique and len(w) > 4:\n",
        "        words_unique.append(w)\n",
        "\n",
        "# words_unique.sort()\n",
        "words_sorted = sorted(words_unique)\n",
        "print(*words_sorted, sep=\"\\n\")"
      ],
      "metadata": {
        "id": "dYFwI86vcuJ9",
        "colab": {
          "base_uri": "https://localhost:8080/"
        },
        "outputId": "833eb65c-ee32-457c-c5ac-062fcc0c7bb9"
      },
      "execution_count": 22,
      "outputs": [
        {
          "output_type": "stream",
          "name": "stdout",
          "text": [
            "beautiful\n",
            "better\n",
            "complex\n",
            "complicated\n",
            "counts\n",
            "dense\n",
            "explicit\n",
            "implicit\n",
            "nested\n",
            "readability\n",
            "simple\n",
            "sparse\n"
          ]
        }
      ]
    },
    {
      "cell_type": "code",
      "source": [
        "# еще раз напоминалка, как работает strip() (не забывайте так же, что есть lstrip() и rstrip(), если нужно чистить только с одной стороны)\n",
        "word = \"...one??…\"\n",
        "word.strip(\"!?.…\")"
      ],
      "metadata": {
        "id": "5FY5w_q0qD1h",
        "colab": {
          "base_uri": "https://localhost:8080/",
          "height": 36
        },
        "outputId": "7dfe003d-9674-4dd5-c745-6e8d30e2c14e"
      },
      "execution_count": 23,
      "outputs": [
        {
          "output_type": "execute_result",
          "data": {
            "text/plain": [
              "'one'"
            ],
            "application/vnd.google.colaboratory.intrinsic+json": {
              "type": "string"
            }
          },
          "metadata": {},
          "execution_count": 23
        }
      ]
    },
    {
      "cell_type": "code",
      "source": [
        "# способ отрезать первое предложение\n",
        "text = \"Beautiful is better than ugly!\\nExplicit is better than implicit.\" \\\n",
        "       \"\\nSimple is better than complex?\\nComplex is better than complicated.\" \\\n",
        "       \"\\nFlat is better than nested…\\nSparse is better than dense.\" \\\n",
        "       \"\\nReadability — counts.\"\n",
        "\n",
        "# здесь мы получим список из двух элементов, тк делаем срез только один раз\n",
        "sents = text.split(\"\\n\", 1)\n",
        "sents[1]"
      ],
      "metadata": {
        "id": "-HH1PGhUtAKp",
        "colab": {
          "base_uri": "https://localhost:8080/",
          "height": 36
        },
        "outputId": "86a4d49d-673d-49a7-9b4b-f1ceb2e3a873"
      },
      "execution_count": 24,
      "outputs": [
        {
          "output_type": "execute_result",
          "data": {
            "text/plain": [
              "'Explicit is better than implicit.\\nSimple is better than complex?\\nComplex is better than complicated.\\nFlat is better than nested…\\nSparse is better than dense.\\nReadability — counts.'"
            ],
            "application/vnd.google.colaboratory.intrinsic+json": {
              "type": "string"
            }
          },
          "metadata": {},
          "execution_count": 24
        }
      ]
    },
    {
      "cell_type": "code",
      "source": [
        "# теперь попробуем разбить текст, не содержащий знаков переноса строки, на предложения\n",
        "\n",
        "text = \"Beautiful is better than ugly!\\nExplicit is better than implicit.\" \\\n",
        "       \"\\nSimple is better than complex?\\nComplex is better than complicated.\" \\\n",
        "       \"\\nFlat is better than nested…\\nSparse is better than dense.\" \\\n",
        "       \"\\nReadability — counts?\"\n",
        "\n",
        "# токенизация по предложениям \n",
        "text = text.replace(\"\\n\", \" \")\n",
        "\n",
        "# text = text.replace(\".\", \".|\")\n",
        "# text = text.replace(\"!\", \"!|\")\n",
        "# text = text.replace(\"?\", \"?|\")\n",
        "# text = text.replace(\"…\", \"…|\")\n",
        "\n",
        "sent_delimiters = [\".\", \"!\", \"…\", \"?\"]\n",
        "\n",
        "for sd in sent_delimiters:\n",
        "    text = text.replace(sd, sd + \"|\")\n",
        "\n",
        "# при таком делении возникнет один пустой элемент в конце, убираем его\n",
        "print(text.split(\"|\")[:-1])"
      ],
      "metadata": {
        "id": "lnlJy9Hdder3",
        "colab": {
          "base_uri": "https://localhost:8080/"
        },
        "outputId": "4ca0563c-1578-40a4-8467-2e86fcfb158a"
      },
      "execution_count": 25,
      "outputs": [
        {
          "output_type": "stream",
          "name": "stdout",
          "text": [
            "['Beautiful is better than ugly!', ' Explicit is better than implicit.', ' Simple is better than complex?', ' Complex is better than complicated.', ' Flat is better than nested…', ' Sparse is better than dense.', ' Readability — counts?']\n"
          ]
        }
      ]
    },
    {
      "cell_type": "markdown",
      "source": [
        "НОВЫЕ СТРУКТУРЫ ДАННЫХ"
      ],
      "metadata": {
        "id": "7k3SwVLzdPKb"
      }
    },
    {
      "cell_type": "code",
      "source": [
        "# КОРТЕЖ\n",
        "# tuple\n",
        "# похож на список, но неизменяемый. элементы через запятую, опциональные обычные скобки\n",
        "\n",
        "my_tuple = 1, 2, 3\n",
        "type(my_tuple)\n",
        "print(my_tuple)\n",
        "\n",
        "user_age = \"John\", 25\n",
        "user_age[0]\n",
        "\n",
        "name, age = user_age\n",
        "print(age)"
      ],
      "metadata": {
        "id": "jMaBP3ww4h8k",
        "colab": {
          "base_uri": "https://localhost:8080/"
        },
        "outputId": "2dd69a54-191c-4275-aa03-413560d42665"
      },
      "execution_count": 26,
      "outputs": [
        {
          "output_type": "stream",
          "name": "stdout",
          "text": [
            "(1, 2, 3)\n",
            "25\n"
          ]
        }
      ]
    },
    {
      "cell_type": "code",
      "source": [
        "time_tuple = 15, 21, 32\n",
        "\n",
        "# распаковка\n",
        "hours, minutes, seconds = time_tuple\n",
        "\n",
        "print(minutes)"
      ],
      "metadata": {
        "id": "BPWxz-7r5ke7",
        "colab": {
          "base_uri": "https://localhost:8080/"
        },
        "outputId": "9ea888ac-b2b2-428e-b25b-ad148cce2361"
      },
      "execution_count": 27,
      "outputs": [
        {
          "output_type": "stream",
          "name": "stdout",
          "text": [
            "21\n"
          ]
        }
      ]
    },
    {
      "cell_type": "code",
      "source": [
        "# именно распаковка помогает нам одной строкой поменять значения переменных \n",
        "a = 1\n",
        "b = 2\n",
        "\n",
        "a, b = b, a\n"
      ],
      "metadata": {
        "id": "b-sCeP_J6ErB"
      },
      "execution_count": 29,
      "outputs": []
    },
    {
      "cell_type": "code",
      "source": [
        "# распаковать можно любой итерируемых объект\n",
        "letters = \"abc\"\n",
        "a, b, c = letters\n",
        "print(b)"
      ],
      "metadata": {
        "colab": {
          "base_uri": "https://localhost:8080/"
        },
        "id": "ruu6bcy9W90-",
        "outputId": "2bd7b6f6-2806-46e6-e470-89342265ceab"
      },
      "execution_count": 30,
      "outputs": [
        {
          "output_type": "stream",
          "name": "stdout",
          "text": [
            "b\n"
          ]
        }
      ]
    },
    {
      "cell_type": "code",
      "source": [
        "# пустой кортеж создается так\n",
        "empty_tuple = ()\n",
        "# или так\n",
        "empty_tuple2 = tuple()\n",
        "# кортеж, содержащий один объект инициализируется с использованием запятой\n",
        "singlton_tuple = \"abc\", \n",
        "print(type(singlton_tuple))\n",
        "print(type(empty_tuple))\n",
        "print(type(empty_tuple2))"
      ],
      "metadata": {
        "id": "mdMXnAIz6wFx",
        "colab": {
          "base_uri": "https://localhost:8080/"
        },
        "outputId": "5b502f0f-6d31-4700-9c8a-14d072b5ceaa"
      },
      "execution_count": 33,
      "outputs": [
        {
          "output_type": "stream",
          "name": "stdout",
          "text": [
            "<class 'tuple'>\n",
            "<class 'tuple'>\n",
            "<class 'tuple'>\n"
          ]
        }
      ]
    },
    {
      "cell_type": "code",
      "source": [
        "# enumerate() возвращает итерируемый объект из кортежей индекс + значение\n",
        "\n",
        "words = [\"bat\", \"rat\", \"fat\", \"cat\"]\n",
        "\n",
        "for i, val in enumerate(words):\n",
        "    print(str(i) + \": \" + val)\n",
        "\n",
        "words_tuple = tuple(words)\n",
        "words_tuple"
      ],
      "metadata": {
        "id": "ufm8NNty7ZNW",
        "colab": {
          "base_uri": "https://localhost:8080/"
        },
        "outputId": "30ce3b39-22da-4834-9bc9-2fc862739139"
      },
      "execution_count": 34,
      "outputs": [
        {
          "output_type": "stream",
          "name": "stdout",
          "text": [
            "0: bat\n",
            "1: rat\n",
            "2: fat\n",
            "3: cat\n"
          ]
        },
        {
          "output_type": "execute_result",
          "data": {
            "text/plain": [
              "('bat', 'rat', 'fat', 'cat')"
            ]
          },
          "metadata": {},
          "execution_count": 34
        }
      ]
    },
    {
      "cell_type": "code",
      "source": [
        "# множества, в фигурных скобках\n",
        "# неупорядоченные -- нет индексации, содаржат неповторяющиеся (неизменяемые) элементы\n",
        "\n",
        "my_set = {1, 2, 3}\n",
        "my_set.add(4)\n",
        "my_set.add(1)\n",
        "print(my_set)"
      ],
      "metadata": {
        "id": "oO98pNHO8fg1"
      },
      "execution_count": null,
      "outputs": []
    },
    {
      "cell_type": "code",
      "source": [
        "words = [\"bat\", \"cat\", \"cat\", \"rat\", \"fat\", \"cat\"]\n",
        "unique_words = list(set(words))\n",
        "unique_words"
      ],
      "metadata": {
        "id": "Y4n4oSrJ9iS0",
        "colab": {
          "base_uri": "https://localhost:8080/"
        },
        "outputId": "c323dfb5-8502-4972-a8ef-c1e555c96613"
      },
      "execution_count": 35,
      "outputs": [
        {
          "output_type": "execute_result",
          "data": {
            "text/plain": [
              "['rat', 'cat', 'fat', 'bat']"
            ]
          },
          "metadata": {},
          "execution_count": 35
        }
      ]
    },
    {
      "cell_type": "code",
      "source": [
        "# словарь -- dict\n",
        "# словарь состоит из пар ключ-значение, ключи уникальные\n",
        "\n",
        "student_dict = {\"John\": 10, \"Laura\": 9, \"Ginger\": 6}\n",
        "print(student_dict[\"John\"])\n",
        "\n",
        "# меняем значение по ключу\n",
        "student_dict[\"John\"] = 8\n",
        "print(student_dict[\"John\"])\n",
        "\n",
        "# добавляем значение\n",
        "student_dict[\"Ann\"] = 8\n",
        "print(student_dict)"
      ],
      "metadata": {
        "id": "jgacmWqRe0OZ",
        "colab": {
          "base_uri": "https://localhost:8080/"
        },
        "outputId": "0c7d06cb-873f-4773-b07a-54d4e857434a"
      },
      "execution_count": 37,
      "outputs": [
        {
          "output_type": "stream",
          "name": "stdout",
          "text": [
            "10\n",
            "8\n",
            "{'John': 8, 'Laura': 9, 'Ginger': 6, 'Ann': 8}\n"
          ]
        }
      ]
    },
    {
      "cell_type": "code",
      "source": [
        "# цикл по словарю\n",
        "print(student_dict[\"John\"])\n",
        "# вывести попарно ключ и значение\n",
        "\n",
        "for student in student_dict:\n",
        "    print(\"key: \" + student, end=\", \")\n",
        "    print(\"value: \" + str(student_dict[student]))"
      ],
      "metadata": {
        "id": "jy85xtYl_K9c",
        "colab": {
          "base_uri": "https://localhost:8080/"
        },
        "outputId": "905f28a8-15ae-48f9-fc08-6b44a5a99e8d"
      },
      "execution_count": 38,
      "outputs": [
        {
          "output_type": "stream",
          "name": "stdout",
          "text": [
            "8\n",
            "key: John, value: 8\n",
            "key: Laura, value: 9\n",
            "key: Ginger, value: 6\n",
            "key: Ann, value: 8\n"
          ]
        }
      ]
    }
  ]
}