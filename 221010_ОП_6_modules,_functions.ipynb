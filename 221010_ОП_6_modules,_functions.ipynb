{
  "nbformat": 4,
  "nbformat_minor": 0,
  "metadata": {
    "colab": {
      "private_outputs": true,
      "provenance": [],
      "authorship_tag": "ABX9TyMi3f5vGI8XNTXpi5ck2Kq/",
      "include_colab_link": true
    },
    "kernelspec": {
      "name": "python3",
      "display_name": "Python 3"
    },
    "language_info": {
      "name": "python"
    }
  },
  "cells": [
    {
      "cell_type": "markdown",
      "metadata": {
        "id": "view-in-github",
        "colab_type": "text"
      },
      "source": [
        "<a href=\"https://colab.research.google.com/github/mozgsvina/python_hse/blob/main/221010_%D0%9E%D0%9F_6_modules%2C_functions.ipynb\" target=\"_parent\"><img src=\"https://colab.research.google.com/assets/colab-badge.svg\" alt=\"Open In Colab\"/></a>"
      ]
    },
    {
      "cell_type": "markdown",
      "source": [
        "Разбор д/з"
      ],
      "metadata": {
        "id": "5z0g2nrL7Gob"
      }
    },
    {
      "cell_type": "code",
      "source": [
        "# (1) remove -s\n",
        "\n",
        "words = [\"mouse\", \"cats\", \"fool\", \"city\", \"birds\", \"spoons\"]\n",
        "new_words = []\n",
        "for word in words:\n",
        "    if word[-1] == \"s\":\n",
        "        new_words.append(word[:-1])\n",
        "    else:\n",
        "        new_words.append(word)\n"
      ],
      "metadata": {
        "id": "LRqVpgI57JwK"
      },
      "execution_count": null,
      "outputs": []
    },
    {
      "cell_type": "code",
      "source": [
        "words = [\"mouse\", \"cats\", \"fool\", \"city\", \"birds\", \"spoons\"]\n",
        "new_words = [w.rstrip(\"s\") for w in words]"
      ],
      "metadata": {
        "id": "Up27bgX1iRn3"
      },
      "execution_count": null,
      "outputs": []
    },
    {
      "cell_type": "code",
      "source": [
        "words = [\"mouse\", \"cats\", \"fool\", \"city\", \"birds\", \"spoons\"]\n",
        "\n",
        "new_list = []\n",
        "for w in words:\n",
        "    new_list.append(w.rstrip(\"s\"))\n",
        "\n",
        "new_list"
      ],
      "metadata": {
        "id": "wMbocq2pixgY"
      },
      "execution_count": null,
      "outputs": []
    },
    {
      "cell_type": "code",
      "source": [
        "# for i in range(len(words))\n",
        "# в исходном списке\n",
        "\n",
        "# words = [\"mouse\", \"cats\", \"fool\", \"city\", \"birds\", \"spoons\"]\n",
        "words = [\"s\", \"S\"]\n",
        "# words = []\n",
        "for i, word in enumerate(words):\n",
        "    words[i] = words[i].rstrip(\"s\")\n",
        "\n",
        "words"
      ],
      "metadata": {
        "id": "iRGM7ZtijRRe"
      },
      "execution_count": null,
      "outputs": []
    },
    {
      "cell_type": "code",
      "source": [
        "# как получить от пользователь список\n",
        "# (1)\n",
        "\n",
        "words = input(\"enter words, use comma: \").split(\", \")"
      ],
      "metadata": {
        "id": "qdbnSvQVjswC"
      },
      "execution_count": null,
      "outputs": []
    },
    {
      "cell_type": "code",
      "source": [
        "# (2) цикл с контрольным значением\n",
        "\n",
        "word = input(\"enter words, 'stop' to stop: \")\n",
        "words = []\n",
        "while word != \"stop\":\n",
        "    words.append(word)\n",
        "    word = input()\n"
      ],
      "metadata": {
        "id": "qIuGg5p8lHX0"
      },
      "execution_count": null,
      "outputs": []
    },
    {
      "cell_type": "code",
      "source": [
        "words"
      ],
      "metadata": {
        "id": "Cbm06qT8lsK_"
      },
      "execution_count": null,
      "outputs": []
    },
    {
      "cell_type": "code",
      "source": [
        "# (2) empty or not\n",
        "\n",
        "not_empty_list = [\"mouse\", \"cats\", \"fool\", \"city\", \"birds\", \"spoon\"]\n",
        "empty_list = []\n",
        "\n",
        "if len(empty_list) == 0: # my_lisr == [], > 0\n",
        "    print(\"empty\")\n",
        "else:\n",
        "    print(\"not empty!\")"
      ],
      "metadata": {
        "id": "MXmaCtxI7Ynt"
      },
      "execution_count": null,
      "outputs": []
    },
    {
      "cell_type": "code",
      "source": [
        "if words:\n",
        "    print(\"not empty!\")\n",
        "else:\n",
        "    print(\"empty\")"
      ],
      "metadata": {
        "id": "t1iJf_N-nFNh"
      },
      "execution_count": null,
      "outputs": []
    },
    {
      "cell_type": "code",
      "source": [
        "# pop() удаляет последний элемент списка и возращает его\n",
        "\n",
        "words = [\"spoon\", \"cat\", \"cat\", \"rat\", \"rat\"]\n",
        "last_word = words.pop()\n",
        "print(last_word)\n",
        "print(words)"
      ],
      "metadata": {
        "id": "_6wlx8vwnnqR"
      },
      "execution_count": null,
      "outputs": []
    },
    {
      "cell_type": "code",
      "source": [
        "while words:\n",
        "    print(words.pop())\n",
        "\n",
        "print(\"now list is empty!\")"
      ],
      "metadata": {
        "id": "94r5R0UKn-n3"
      },
      "execution_count": null,
      "outputs": []
    },
    {
      "cell_type": "code",
      "source": [
        "# (3) remove duplicates and join with \";\"\n",
        "\n",
        "words = [\"spoon\", \"cat\", \"cat\", \"rat\", \"rat\"]\n",
        "\n",
        "unique_words = []\n",
        "\n",
        "for w in words:\n",
        "    if w not in unique_words:\n",
        "        unique_words.append(w)\n",
        "\n",
        "unique_words"
      ],
      "metadata": {
        "id": "jBpKzi8A7elI"
      },
      "execution_count": null,
      "outputs": []
    },
    {
      "cell_type": "code",
      "source": [
        "words = [\"spoon\", \"cat\", \"cat\", \"rat\", \"rat\"]\n",
        "unique_words = list(set(words))\n",
        "unique_words\n",
        "\n",
        "res = \"; \".join(unique_words)\n",
        "print(res)"
      ],
      "metadata": {
        "id": "-VggHld-qMJU"
      },
      "execution_count": null,
      "outputs": []
    },
    {
      "cell_type": "code",
      "source": [
        "words = [\"spoon\", \"cat\", \"cat\", \"rat\", \"rat\"]\n",
        "words_set = set(words)\n",
        "\" \".join(words_set)"
      ],
      "metadata": {
        "id": "do8EGCrcrEZS"
      },
      "execution_count": null,
      "outputs": []
    },
    {
      "cell_type": "code",
      "source": [
        "# (4) \"Hello, world!\" x5\n",
        "\n",
        "n = 5\n",
        "message = \"Hello, world!\"\n",
        "\n",
        "for i in range(n):\n",
        "    print(message)"
      ],
      "metadata": {
        "id": "0c1MkgWD7zDA"
      },
      "execution_count": null,
      "outputs": []
    },
    {
      "cell_type": "code",
      "source": [
        "for i in range(5):\n",
        "    print(\"Hello, world!\")"
      ],
      "metadata": {
        "id": "1S4l4TiKtNaS"
      },
      "execution_count": null,
      "outputs": []
    },
    {
      "cell_type": "code",
      "source": [
        "n = 0\n",
        "while n < 5:\n",
        "    print(\"Hi!\")\n",
        "    n += 1"
      ],
      "metadata": {
        "id": "X_AjtVDvtRdt"
      },
      "execution_count": null,
      "outputs": []
    },
    {
      "cell_type": "code",
      "source": [
        "val = 5\n",
        "n = 0\n",
        "n += val\n",
        "n"
      ],
      "metadata": {
        "id": "u78jWuOqtv3R"
      },
      "execution_count": null,
      "outputs": []
    },
    {
      "cell_type": "code",
      "source": [
        "# (5) find and count substring\n",
        "\n",
        "line = \"Remember, remember the fifth of November\\nGunpowder, treason and plot.\" \\\n",
        "\"\\nI see no reason, why gunpowder treason\\nShould ever be forgot.\"\n",
        "\n",
        "str_to_search = \"emem\"\n",
        "count = line.count(str_to_search)\n",
        "\n",
        "if count > 0:\n",
        "    print(f\"found {count} times\")\n",
        "else:\n",
        "    print(\"no match \")\n",
        "\n"
      ],
      "metadata": {
        "id": "OPlBkhVZ74eI"
      },
      "execution_count": null,
      "outputs": []
    },
    {
      "cell_type": "code",
      "source": [
        "# (6) indexes of capitalized letters \n",
        "\n",
        "line = \"Remember, remember the fifth of November\\nGunpowder, treason and plot.\" \\\n",
        "\"\\nI see no reason, why gunpowder treason\\nShould ever be forgot.\"\n",
        "\n",
        "i = 0\n",
        "\n",
        "while i < len(line):\n",
        "    if line[i].isupper():\n",
        "        print(line[i], \"-\", i)\n",
        "    i += 1\n",
        "\n"
      ],
      "metadata": {
        "id": "UE6Hn8GN8EBN"
      },
      "execution_count": null,
      "outputs": []
    },
    {
      "cell_type": "code",
      "source": [
        "for i, val in enumerate(line * 2):\n",
        "    if val.isupper():\n",
        "        print(val, i)"
      ],
      "metadata": {
        "id": "O8DoVJ-Jz4sm"
      },
      "execution_count": null,
      "outputs": []
    },
    {
      "cell_type": "code",
      "source": [
        "# неточное решение\n",
        "\n",
        "for char in line * 2:\n",
        "    if char.isupper():\n",
        "        print(char, line.index(char))\n"
      ],
      "metadata": {
        "id": "k7ifJjtt0XFp"
      },
      "execution_count": null,
      "outputs": []
    },
    {
      "cell_type": "markdown",
      "source": [
        "Новый материал"
      ],
      "metadata": {
        "id": "k0y-NRhQ8Zwo"
      }
    },
    {
      "cell_type": "code",
      "execution_count": null,
      "metadata": {
        "id": "UPHNISozgWMX"
      },
      "outputs": [],
      "source": [
        "# break и continue\n",
        "\n",
        "numbers = list(range(11)) \n",
        "\n",
        "for num in numbers:\n",
        "    if num == 5:\n",
        "        break\n",
        "    print(num)"
      ]
    },
    {
      "cell_type": "code",
      "source": [
        "numbers = list(range(11)) \n",
        "\n",
        "for num in numbers:\n",
        "    if num % 2 == 0:\n",
        "        continue\n",
        "    print(num)"
      ],
      "metadata": {
        "id": "JX-J8j_N2_QL"
      },
      "execution_count": null,
      "outputs": []
    },
    {
      "cell_type": "code",
      "source": [
        "# встроенные функции\n",
        "# min(), max(), sum()\n",
        "\n",
        "numbers = list(range(12))  # [0, 1, 2, 3, 4, 5, 6, 7, 8, 9, 10]\n",
        "\n",
        "# print(\"hello!\")\n",
        "# input()\n",
        "# int(\"15\")\n",
        "# str(10)\n",
        "# len(\"12\")\n",
        "\n",
        "minimum = min(numbers)\n",
        "maximum = max(numbers)\n",
        "sum_n = sum(numbers)\n",
        "\n",
        "print(minimum)\n",
        "print(sum_n)\n",
        "\n",
        "# найти среднее\n",
        "\n",
        "mean_n = sum(numbers) / len(numbers)\n",
        "print(mean_n)"
      ],
      "metadata": {
        "id": "NZy5Nrr466Tn"
      },
      "execution_count": null,
      "outputs": []
    },
    {
      "cell_type": "code",
      "source": [
        "# импортирование модулей из стандартной библиотеки\n",
        "\n",
        "import statistics\n",
        "\n",
        "grades = [10, 9, 7, 7, 7, 6, 10, 8, 4, 3, 9, 9, 9]\n",
        "\n",
        "print(statistics.mean(grades))\n",
        "print(statistics.median(grades))\n",
        "print(statistics.mode(grades))\n",
        "\n",
        "sorted(grades)"
      ],
      "metadata": {
        "id": "bVsiuMKbgeeK"
      },
      "execution_count": null,
      "outputs": []
    },
    {
      "cell_type": "code",
      "source": [
        "# import statistics as stat\n",
        "# from statistics import * -- так не хорошо\n",
        "from statistics import mean, mode, median\n",
        "\n",
        "mode((1, 2, 2, 3))"
      ],
      "metadata": {
        "id": "5ZtpcSBC7JuH"
      },
      "execution_count": null,
      "outputs": []
    },
    {
      "cell_type": "code",
      "source": [
        "# def say_hello():\n",
        "#     print(\"Hello!\")\n",
        "\n",
        "# say_hello()"
      ],
      "metadata": {
        "id": "yEK_K8vr8LRc"
      },
      "execution_count": null,
      "outputs": []
    },
    {
      "cell_type": "code",
      "source": [
        "# определение пользовательских функций (своих)\n",
        "\n",
        "def say_hello():\n",
        "    name = input(\"What's your name?\")\n",
        "    print(f\"Hello, {name}!\")\n",
        "\n",
        "# вызов функции (после того, как она определена)\n",
        "say_hello()"
      ],
      "metadata": {
        "id": "SQd_Vop4gkgB"
      },
      "execution_count": null,
      "outputs": []
    },
    {
      "cell_type": "code",
      "source": [
        "# функция, которая принимает аргумент\n",
        "def say_hello(name):\n",
        "    print(f\"Hello, {name}!\")\n",
        "\n",
        "say_hello(\"Anya\")\n",
        "user_name = \"Oleg\"\n",
        "say_hello(user_name)"
      ],
      "metadata": {
        "id": "LUFikPzV_Hiv"
      },
      "execution_count": null,
      "outputs": []
    },
    {
      "cell_type": "code",
      "source": [
        "# функция, которая принимает аргумент\n",
        "def say_hello(name, n):\n",
        "    for i in range(n):\n",
        "        print(f\"Hello, {name}!\")\n",
        "\n",
        "say_hello(user_name, 4)"
      ],
      "metadata": {
        "id": "pjsLEeyR_mZ0"
      },
      "execution_count": null,
      "outputs": []
    },
    {
      "cell_type": "code",
      "source": [
        "# значения аргументов по умолчанию\n",
        "\n",
        "def say_hello(name=\"stranger\"):\n",
        "    print(f\"Hello, {name}!\")\n",
        "\n",
        "# вызов функции\n",
        "say_hello()\n",
        "say_hello(\"Masha\")"
      ],
      "metadata": {
        "id": "hU3GG0z5Ax2X"
      },
      "execution_count": null,
      "outputs": []
    },
    {
      "cell_type": "code",
      "source": [
        "from prompt_toolkit.application.application import Return\n",
        "# функции, которые возвращают значение\n",
        "\n",
        "def sum_of_two(a, b):\n",
        "    c = a + b\n",
        "    print(c)\n",
        "    return c\n",
        "\n",
        "# вызов функции\n",
        "a = sum_of_two(1, 2)\n",
        "\n",
        "print(\"sum = \", a)"
      ],
      "metadata": {
        "id": "78hS52S3Bwr1"
      },
      "execution_count": null,
      "outputs": []
    }
  ]
}